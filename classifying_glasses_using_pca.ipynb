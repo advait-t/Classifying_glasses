{
  "nbformat": 4,
  "nbformat_minor": 0,
  "metadata": {
    "colab": {
      "name": "PCA_eigen_face_self_data64*64",
      "provenance": [],
      "collapsed_sections": [],
      "toc_visible": true,
      "include_colab_link": true
    },
    "kernelspec": {
      "name": "python3",
      "display_name": "Python 3"
    }
  },
  "cells": [
    {
      "cell_type": "markdown",
      "metadata": {
        "id": "view-in-github",
        "colab_type": "text"
      },
      "source": [
        "<a href=\"https://colab.research.google.com/github/advait-t/Classifying_glasses/blob/main/classifying_glasses_using_pca.ipynb\" target=\"_parent\"><img src=\"https://colab.research.google.com/assets/colab-badge.svg\" alt=\"Open In Colab\"/></a>"
      ]
    },
    {
      "cell_type": "code",
      "metadata": {
        "id": "Gvr6EUh4DZSQ"
      },
      "source": [
        "import cv2\n",
        "import numpy as np\n",
        "from matplotlib import pyplot as plt\n",
        "from sklearn.model_selection import train_test_split\n",
        "from sklearn import decomposition\n",
        "from sklearn.decomposition import PCA\n",
        "import glob\n",
        "from numpy import asarray\n",
        "from PIL import Image\n",
        "from sklearn.model_selection import train_test_split\n",
        "import tensorflow as tf\n",
        "from tensorflow import keras\n",
        "from keras import models\n",
        "from keras import layers\n",
        "from keras.utils import to_categorical\n",
        "from sklearn.preprocessing import StandardScaler"
      ],
      "execution_count": 16,
      "outputs": []
    },
    {
      "cell_type": "code",
      "metadata": {
        "id": "e-U9ltgAjgFX",
        "outputId": "c9e674f6-e407-4cee-fdab-e19ac4c387e4",
        "colab": {
          "base_uri": "https://localhost:8080/",
          "height": 34
        }
      },
      "source": [
        "from google.colab import drive\n",
        "drive.mount('/content/drive', force_remount=True)"
      ],
      "execution_count": 17,
      "outputs": [
        {
          "output_type": "stream",
          "text": [
            "Mounted at /content/drive\n"
          ],
          "name": "stdout"
        }
      ]
    },
    {
      "cell_type": "markdown",
      "metadata": {
        "id": "3Sn1BD5XFw5A"
      },
      "source": [
        "## Making the Dataset, dataset contains 100 images without glasses and 100 with glasses"
      ]
    },
    {
      "cell_type": "code",
      "metadata": {
        "id": "nw0XJ5erF1a2"
      },
      "source": [
        "# cap = cv2.VideoCapture(0)\n",
        "# count = 0\n",
        "# while True:\n",
        "\n",
        "#     ret, frame = cap.read()\n",
        "#     count += 1\n",
        "#     face = cv2.resize(frame, (64*64))\n",
        "\n",
        "#     file_name_path = '/Users/advait_t/Documents/Semester 5/Statistical Methods-2/advait_face/with/' + str(count) + '.jpg'\n",
        "#     cv2.imwrite(file_name_path, face)\n",
        "\n",
        "#     cv2.putText(face, str(count), (50, 50), cv2.FONT_HERSHEY_COMPLEX, 1, (0,255,0), 2)\n",
        "#     cv2.imshow('Face Cropper', face)\n",
        "        \n",
        "#     if cv2.waitKey(1) == 13 or count == 100: #13 is the Enter Key\n",
        "#         break\n",
        "        \n",
        "# cap.release()\n",
        "# cv2.destroyAllWindows()      \n",
        "# print(\"Collecting Samples Complete\")"
      ],
      "execution_count": 18,
      "outputs": []
    },
    {
      "cell_type": "markdown",
      "metadata": {
        "id": "lCrC3K8GGgbV"
      },
      "source": [
        "## Reading the dataset"
      ]
    },
    {
      "cell_type": "code",
      "metadata": {
        "id": "2rhOiyl1ARuQ",
        "outputId": "b1154adb-4630-412a-cb78-b875dd94bfcf",
        "colab": {
          "base_uri": "https://localhost:8080/",
          "height": 34
        }
      },
      "source": [
        "with_glass = []\n",
        "c = 0\n",
        "files = glob.glob (\"/content/drive/My Drive/advait_face_64/with/*.jpg\")\n",
        "for myFile in files:\n",
        "    image = cv2.imread (myFile,0)\n",
        "    with_glass.append (image)\n",
        "\n",
        "print('with_glass shape:', np.array(with_glass).shape)"
      ],
      "execution_count": 19,
      "outputs": [
        {
          "output_type": "stream",
          "text": [
            "with_glass shape: (100, 64, 64)\n"
          ],
          "name": "stdout"
        }
      ]
    },
    {
      "cell_type": "code",
      "metadata": {
        "id": "1ciwiGD0O4kQ",
        "outputId": "2c1b32b0-31ca-4c1a-9b61-a81c510f7a17",
        "colab": {
          "base_uri": "https://localhost:8080/",
          "height": 34
        }
      },
      "source": [
        "without_glass = []\n",
        "c = 0\n",
        "files = glob.glob (\"/content/drive/My Drive/advait_face_64/without/*.jpg\")\n",
        "for myFile in files:\n",
        "    image = cv2.imread (myFile,0)\n",
        "    without_glass.append (image)\n",
        "print('without_glass shape:', np.array(without_glass).shape)"
      ],
      "execution_count": 20,
      "outputs": [
        {
          "output_type": "stream",
          "text": [
            "without_glass shape: (100, 64, 64)\n"
          ],
          "name": "stdout"
        }
      ]
    },
    {
      "cell_type": "code",
      "metadata": {
        "id": "Hw95XrtmBGsQ",
        "outputId": "b7a4a74a-fcfc-4f84-b41c-d3d656c5ab78",
        "colab": {
          "base_uri": "https://localhost:8080/",
          "height": 51
        }
      },
      "source": [
        "with_glass = np.array(with_glass)\n",
        "without_glass = np.array(without_glass)\n",
        "print(with_glass.shape)\n",
        "print(without_glass.shape)"
      ],
      "execution_count": 21,
      "outputs": [
        {
          "output_type": "stream",
          "text": [
            "(100, 64, 64)\n",
            "(100, 64, 64)\n"
          ],
          "name": "stdout"
        }
      ]
    },
    {
      "cell_type": "code",
      "metadata": {
        "id": "7uII-1Ae9pjH",
        "outputId": "00e89a7b-5ecf-446c-d09e-8b694f259d1f",
        "colab": {
          "base_uri": "https://localhost:8080/",
          "height": 34
        }
      },
      "source": [
        " without_glass_arr = without_glass.reshape(100,64*64)\n",
        " without_glass_arr.shape"
      ],
      "execution_count": 22,
      "outputs": [
        {
          "output_type": "execute_result",
          "data": {
            "text/plain": [
              "(100, 4096)"
            ]
          },
          "metadata": {
            "tags": []
          },
          "execution_count": 22
        }
      ]
    },
    {
      "cell_type": "code",
      "metadata": {
        "id": "rVDOqIXYVOHw",
        "outputId": "b8a35fc0-f1a7-4306-9aa6-472b37f84582",
        "colab": {
          "base_uri": "https://localhost:8080/",
          "height": 34
        }
      },
      "source": [
        " with_glass_arr = with_glass.reshape(100,64*64)\n",
        " with_glass_arr.shape"
      ],
      "execution_count": 23,
      "outputs": [
        {
          "output_type": "execute_result",
          "data": {
            "text/plain": [
              "(100, 4096)"
            ]
          },
          "metadata": {
            "tags": []
          },
          "execution_count": 23
        }
      ]
    },
    {
      "cell_type": "code",
      "metadata": {
        "id": "c6j7Z1Gr8Qv3"
      },
      "source": [
        "face = np.concatenate((without_glass, with_glass))"
      ],
      "execution_count": 24,
      "outputs": []
    },
    {
      "cell_type": "code",
      "metadata": {
        "id": "-LvXsfFPD3Qw",
        "outputId": "84990067-5509-4761-f388-32ed93d636f3",
        "colab": {
          "base_uri": "https://localhost:8080/",
          "height": 34
        }
      },
      "source": [
        "face_arr = face.reshape(200,64*64)\n",
        "print(\"Shape of the total dataset: \",face_arr.shape)"
      ],
      "execution_count": 25,
      "outputs": [
        {
          "output_type": "stream",
          "text": [
            "Shape of the total dataset:  (200, 4096)\n"
          ],
          "name": "stdout"
        }
      ]
    },
    {
      "cell_type": "code",
      "metadata": {
        "id": "5iv3Zw6DlKaF",
        "outputId": "c52b8f94-bd3e-4a71-cb69-fdf7dc14e844",
        "colab": {
          "base_uri": "https://localhost:8080/",
          "height": 34
        }
      },
      "source": [
        "yx = (100,1)\n",
        "yx = np.zeros(yx, dtype=int)\n",
        "a = (100,1)\n",
        "a = np.ones(a, dtype=int)\n",
        "y = np.concatenate((yx,a))\n",
        "y.shape"
      ],
      "execution_count": 26,
      "outputs": [
        {
          "output_type": "execute_result",
          "data": {
            "text/plain": [
              "(200, 1)"
            ]
          },
          "metadata": {
            "tags": []
          },
          "execution_count": 26
        }
      ]
    },
    {
      "cell_type": "markdown",
      "metadata": {
        "id": "I2b50qGiO5xj"
      },
      "source": [
        "## Scaling face and face_arr"
      ]
    },
    {
      "cell_type": "code",
      "metadata": {
        "id": "OYifVTC2O0w9",
        "outputId": "c0798036-d483-4153-d655-fb45c0bbf191",
        "colab": {
          "base_uri": "https://localhost:8080/",
          "height": 68
        }
      },
      "source": [
        "print('Data Type: %s' % face.dtype)\n",
        "print('Min: %.3f, Max: %.3f' % (face.min(), face.max()))\n",
        "face_norm_1 = face.astype('float32')\n",
        "face_norm_1 /= 255.0\n",
        "print('Min: %.3f, Max: %.3f' % (face_norm_1.min(), face_norm_1.max()))"
      ],
      "execution_count": 27,
      "outputs": [
        {
          "output_type": "stream",
          "text": [
            "Data Type: uint8\n",
            "Min: 1.000, Max: 255.000\n",
            "Min: 0.004, Max: 1.000\n"
          ],
          "name": "stdout"
        }
      ]
    },
    {
      "cell_type": "code",
      "metadata": {
        "id": "pOG5ziu7PCoN",
        "outputId": "347cfb40-7c18-46bd-87b6-6dcb2ae0f3e5",
        "colab": {
          "base_uri": "https://localhost:8080/",
          "height": 238
        }
      },
      "source": [
        "face_norm_1[0]"
      ],
      "execution_count": 28,
      "outputs": [
        {
          "output_type": "execute_result",
          "data": {
            "text/plain": [
              "array([[0.10588235, 0.09803922, 0.10588235, ..., 0.3764706 , 0.3647059 ,\n",
              "        0.34509805],\n",
              "       [0.09803922, 0.09019608, 0.11764706, ..., 0.3764706 , 0.36078432,\n",
              "        0.34509805],\n",
              "       [0.11372549, 0.10588235, 0.10588235, ..., 0.3764706 , 0.34509805,\n",
              "        0.3372549 ],\n",
              "       ...,\n",
              "       [0.05882353, 0.07843138, 0.07843138, ..., 0.30980393, 0.2901961 ,\n",
              "        0.29803923],\n",
              "       [0.05882353, 0.06666667, 0.10980392, ..., 0.29411766, 0.29803923,\n",
              "        0.2901961 ],\n",
              "       [0.07450981, 0.0627451 , 0.14901961, ..., 0.26666668, 0.3019608 ,\n",
              "        0.29803923]], dtype=float32)"
            ]
          },
          "metadata": {
            "tags": []
          },
          "execution_count": 28
        }
      ]
    },
    {
      "cell_type": "code",
      "metadata": {
        "id": "vo7YI6vePFng",
        "outputId": "0e0d6883-eb1b-4ef0-ce4e-a7b0e3720391",
        "colab": {
          "base_uri": "https://localhost:8080/",
          "height": 68
        }
      },
      "source": [
        "print('Data Type: %s' % face.dtype)\n",
        "print('Min: %.3f, Max: %.3f' % (face_arr.min(), face_arr.max()))\n",
        "face_norm = face_arr.astype('float32')\n",
        "face_norm /= 255.0\n",
        "print('Min: %.3f, Max: %.3f' % (face_norm.min(), face_norm.max()))"
      ],
      "execution_count": 29,
      "outputs": [
        {
          "output_type": "stream",
          "text": [
            "Data Type: uint8\n",
            "Min: 1.000, Max: 255.000\n",
            "Min: 0.004, Max: 1.000\n"
          ],
          "name": "stdout"
        }
      ]
    },
    {
      "cell_type": "markdown",
      "metadata": {
        "id": "gHMTznk8eERK"
      },
      "source": [
        "# Splitting face_norm and face_norm_1 and y into training and testing"
      ]
    },
    {
      "cell_type": "code",
      "metadata": {
        "id": "Unzkf5EeeJ_q",
        "outputId": "7a991ba2-0e72-43f1-ef97-c2edf698d74f",
        "colab": {
          "base_uri": "https://localhost:8080/",
          "height": 34
        }
      },
      "source": [
        "x_train_norm_1, x_test_norm_1 = train_test_split(face_norm_1, random_state=0)\n",
        "print(x_train_norm_1.shape, x_test_norm_1.shape)"
      ],
      "execution_count": 30,
      "outputs": [
        {
          "output_type": "stream",
          "text": [
            "(150, 64, 64) (50, 64, 64)\n"
          ],
          "name": "stdout"
        }
      ]
    },
    {
      "cell_type": "code",
      "metadata": {
        "id": "jkYWmWKggTr9",
        "outputId": "5aaa6c10-3b21-4083-da25-ce6d873d2981",
        "colab": {
          "base_uri": "https://localhost:8080/",
          "height": 34
        }
      },
      "source": [
        "x_train_norm, x_test_norm = train_test_split(face_norm, random_state=0)\n",
        "print(\"Train Data Shape:\",x_train_norm.shape,\"Test Data Shape\",x_test_norm.shape)"
      ],
      "execution_count": 31,
      "outputs": [
        {
          "output_type": "stream",
          "text": [
            "Train Data Shape: (150, 4096) Test Data Shape (50, 4096)\n"
          ],
          "name": "stdout"
        }
      ]
    },
    {
      "cell_type": "code",
      "metadata": {
        "id": "TOYx-NjZqUhm",
        "outputId": "808c6ce5-5bfa-4c0c-8078-72dcfc40ccd5",
        "colab": {
          "base_uri": "https://localhost:8080/",
          "height": 34
        }
      },
      "source": [
        "y_train_norm, y_test_norm = train_test_split(y, random_state = 0)\n",
        "print(y_train_norm.shape, y_test_norm.shape)"
      ],
      "execution_count": 32,
      "outputs": [
        {
          "output_type": "stream",
          "text": [
            "(150, 1) (50, 1)\n"
          ],
          "name": "stdout"
        }
      ]
    },
    {
      "cell_type": "code",
      "metadata": {
        "id": "qwa-mDgT4qpq",
        "outputId": "19f90100-fdeb-40fa-eb18-1e305223f1db",
        "colab": {
          "base_uri": "https://localhost:8080/",
          "height": 285
        }
      },
      "source": [
        "plt.imshow(x_train_norm_1[0],cmap=plt.cm.bone)"
      ],
      "execution_count": 33,
      "outputs": [
        {
          "output_type": "execute_result",
          "data": {
            "text/plain": [
              "<matplotlib.image.AxesImage at 0x7f4b839f95c0>"
            ]
          },
          "metadata": {
            "tags": []
          },
          "execution_count": 33
        },
        {
          "output_type": "display_data",
          "data": {
            "image/png": "[encoded data removed]",
            "text/plain": [
              "<Figure size 432x288 with 1 Axes>"
            ]
          },
          "metadata": {
            "tags": [],
            "needs_background": "light"
          }
        }
      ]
    },
    {
      "cell_type": "code",
      "metadata": {
        "id": "mzqiYUk25cZ9",
        "outputId": "4c837507-9584-4ba6-bd4f-f8fa54249fd3",
        "colab": {
          "base_uri": "https://localhost:8080/",
          "height": 361
        }
      },
      "source": [
        "fig = plt.figure(figsize=(8, 6))\n",
        "# plot several images\n",
        "for i in range(20):\n",
        "    ax = fig.add_subplot(4, 5, i + 1, xticks=[], yticks=[])\n",
        "    ax.imshow(x_train_norm_1[i], cmap=plt.cm.bone)"
      ],
      "execution_count": 34,
      "outputs": [
        {
          "output_type": "display_data",
          "data": {
            "image/png": "[encoded data removed]",
            "text/plain": [
              "<Figure size 576x432 with 20 Axes>"
            ]
          },
          "metadata": {
            "tags": []
          }
        }
      ]
    },
    {
      "cell_type": "markdown",
      "metadata": {
        "id": "kEHl1k-1d43K"
      },
      "source": [
        "## Doing the PCA"
      ]
    },
    {
      "cell_type": "code",
      "metadata": {
        "id": "lwTiOAVJEn28",
        "outputId": "8a70f236-f1a6-41bb-d3dd-d3ed31e99c55",
        "colab": {
          "base_uri": "https://localhost:8080/",
          "height": 285
        }
      },
      "source": [
        "from sklearn.decomposition import PCA\n",
        "pca1 = PCA() # Enter the number in bracket for the number of eigen faces you want to see\n",
        "pca1.fit(x_train_norm)\n",
        "plt.imshow(pca1.mean_.reshape(x_train_norm_1[0].shape),\n",
        "           cmap=plt.cm.bone)"
      ],
      "execution_count": 35,
      "outputs": [
        {
          "output_type": "execute_result",
          "data": {
            "text/plain": [
              "<matplotlib.image.AxesImage at 0x7f4b830c3a90>"
            ]
          },
          "metadata": {
            "tags": []
          },
          "execution_count": 35
        },
        {
          "output_type": "display_data",
          "data": {
            "image/png": "[encoded data removed]",
            "text/plain": [
              "<Figure size 432x288 with 1 Axes>"
            ]
          },
          "metadata": {
            "tags": [],
            "needs_background": "light"
          }
        }
      ]
    },
    {
      "cell_type": "code",
      "metadata": {
        "id": "OYQK61N6EwZe",
        "outputId": "e7281f03-0308-44f7-9da7-34c134ef410f",
        "colab": {
          "base_uri": "https://localhost:8080/",
          "height": 34
        }
      },
      "source": [
        "print(\"Shape of eigen face:\" ,pca1.components_.shape) # This will give the eigen face's shape"
      ],
      "execution_count": 36,
      "outputs": [
        {
          "output_type": "stream",
          "text": [
            "Shape of eigen face: (150, 4096)\n"
          ],
          "name": "stdout"
        }
      ]
    },
    {
      "cell_type": "code",
      "metadata": {
        "id": "6pRivHU0E3Sy",
        "outputId": "f758c05c-8715-466b-80a8-54232f8b6114",
        "colab": {
          "base_uri": "https://localhost:8080/",
          "height": 238
        }
      },
      "source": [
        "print(pca1.components_) # This will give us the values of eigen face"
      ],
      "execution_count": 37,
      "outputs": [
        {
          "output_type": "stream",
          "text": [
            "[[-0.00575825 -0.00796046 -0.00585124 ... -0.0109339  -0.01138089\n",
            "  -0.01111022]\n",
            " [-0.00495671 -0.00482054 -0.00531779 ... -0.01385091 -0.0137846\n",
            "  -0.01393266]\n",
            " [ 0.00100559 -0.00097125  0.00426598 ...  0.00279423  0.00249189\n",
            "   0.00135141]\n",
            " ...\n",
            " [-0.03750722  0.03208746  0.00204626 ...  0.00327238  0.00182797\n",
            "  -0.0201171 ]\n",
            " [-0.02454081 -0.00399115 -0.00555834 ... -0.01218911 -0.00348743\n",
            "   0.00960968]\n",
            " [-0.00750971  0.00010922  0.01336041 ...  0.02748429  0.02330947\n",
            "   0.01801401]]\n"
          ],
          "name": "stdout"
        }
      ]
    },
    {
      "cell_type": "code",
      "metadata": {
        "id": "i-9bVkzZE5mF",
        "outputId": "f2795d1f-8acc-45b6-8629-38782a1ad25d",
        "colab": {
          "base_uri": "https://localhost:8080/",
          "height": 527
        }
      },
      "source": [
        "print(pca1.explained_variance_) # this will give us the eigen values"
      ],
      "execution_count": 38,
      "outputs": [
        {
          "output_type": "stream",
          "text": [
            "[9.1654415e+00 5.4649940e+00 1.4323586e+00 9.4583213e-01 6.1204380e-01\n",
            " 5.1090473e-01 3.6543393e-01 3.3823085e-01 2.5755340e-01 1.9544001e-01\n",
            " 1.7877682e-01 1.2263359e-01 1.0863839e-01 8.9792706e-02 7.8938141e-02\n",
            " 6.7553103e-02 6.1455298e-02 5.4561954e-02 4.8328709e-02 4.5961294e-02\n",
            " 4.5360032e-02 3.8867202e-02 3.5920568e-02 3.4369793e-02 3.1839117e-02\n",
            " 2.8973369e-02 2.8520612e-02 2.6309915e-02 2.3703463e-02 2.3214500e-02\n",
            " 2.2142015e-02 2.1257989e-02 1.9837176e-02 1.8768270e-02 1.8441334e-02\n",
            " 1.6651757e-02 1.5426968e-02 1.5227260e-02 1.4740219e-02 1.4221028e-02\n",
            " 1.4039565e-02 1.3542430e-02 1.3191757e-02 1.2851525e-02 1.2460018e-02\n",
            " 1.2100410e-02 1.1353604e-02 1.1127783e-02 1.0512403e-02 1.0176372e-02\n",
            " 9.7554009e-03 9.5744440e-03 9.2635686e-03 8.9775389e-03 8.5534696e-03\n",
            " 8.3411280e-03 8.0474438e-03 7.9278369e-03 7.8624533e-03 7.5661880e-03\n",
            " 7.3173046e-03 7.1913190e-03 6.9781654e-03 6.8820957e-03 6.7969915e-03\n",
            " 6.6210297e-03 6.4650592e-03 6.3379481e-03 6.1631445e-03 6.1173122e-03\n",
            " 6.0279183e-03 5.9892926e-03 5.9395647e-03 5.8480427e-03 5.7511465e-03\n",
            " 5.7135499e-03 5.6599709e-03 5.5955434e-03 5.5108462e-03 5.3336234e-03\n",
            " 5.2993651e-03 5.2340869e-03 5.1732594e-03 5.0303717e-03 5.0069829e-03\n",
            " 4.9124057e-03 4.8602019e-03 4.8270212e-03 4.7183051e-03 4.6865591e-03\n",
            " 4.6494813e-03 4.5866040e-03 4.5622559e-03 4.5023770e-03 4.4793282e-03\n",
            " 4.3426915e-03 4.3304884e-03 4.2614695e-03 4.2279558e-03 4.1678525e-03\n",
            " 4.1290307e-03 4.1154213e-03 4.0711304e-03 3.9986931e-03 3.9153546e-03\n",
            " 3.8829083e-03 3.8670551e-03 3.8090008e-03 3.7472444e-03 3.7081181e-03\n",
            " 3.6931650e-03 3.6285697e-03 3.5671119e-03 3.5447902e-03 3.5373960e-03\n",
            " 3.4737682e-03 3.4549416e-03 3.4082604e-03 3.3708620e-03 3.3234032e-03\n",
            " 3.2679541e-03 3.2510287e-03 3.2381136e-03 3.2038186e-03 3.1300460e-03\n",
            " 3.0902897e-03 3.0785936e-03 3.0189892e-03 2.9774338e-03 2.9632242e-03\n",
            " 2.9040857e-03 2.8650423e-03 2.8079199e-03 2.7571309e-03 2.7358097e-03\n",
            " 2.7038455e-03 2.6865311e-03 2.6138055e-03 2.5499959e-03 2.5156108e-03\n",
            " 2.4692481e-03 2.4373627e-03 2.4073352e-03 2.3675442e-03 2.2386315e-03\n",
            " 2.2131109e-03 2.1553079e-03 2.0379815e-03 1.9784612e-03 1.0593619e-09]\n"
          ],
          "name": "stdout"
        }
      ]
    },
    {
      "cell_type": "code",
      "metadata": {
        "id": "QhTbwfNRE8Cv",
        "outputId": "efaf656f-84e9-4989-f54d-0a7a3d848064",
        "colab": {
          "base_uri": "https://localhost:8080/",
          "height": 285
        }
      },
      "source": [
        "plt.imshow(pca1.components_[0].reshape(64,64),cmap=plt.cm.bone) # this is the eigen face"
      ],
      "execution_count": 39,
      "outputs": [
        {
          "output_type": "execute_result",
          "data": {
            "text/plain": [
              "<matplotlib.image.AxesImage at 0x7f4b7f833668>"
            ]
          },
          "metadata": {
            "tags": []
          },
          "execution_count": 39
        },
        {
          "output_type": "display_data",
          "data": {
            "image/png": "[encoded data removed]",
            "text/plain": [
              "<Figure size 432x288 with 1 Axes>"
            ]
          },
          "metadata": {
            "tags": [],
            "needs_background": "light"
          }
        }
      ]
    },
    {
      "cell_type": "code",
      "metadata": {
        "id": "GbjY2BW7FBtK",
        "outputId": "f2c03d5d-2100-41dd-979a-499832cc6962",
        "colab": {
          "base_uri": "https://localhost:8080/",
          "height": 34
        }
      },
      "source": [
        "omega = pca1.fit_transform(x_train_norm)  #omega shows us the image from the reduced dimensions which is (200,200) in this case (no_of_dimensions,no_of_images)\n",
        "omega.shape"
      ],
      "execution_count": 40,
      "outputs": [
        {
          "output_type": "execute_result",
          "data": {
            "text/plain": [
              "(150, 150)"
            ]
          },
          "metadata": {
            "tags": []
          },
          "execution_count": 40
        }
      ]
    },
    {
      "cell_type": "code",
      "metadata": {
        "id": "EVNVRvypFIjN",
        "outputId": "a36564fc-0c86-4b15-c63e-c756813da7c5",
        "colab": {
          "base_uri": "https://localhost:8080/",
          "height": 285
        }
      },
      "source": [
        "inv_proj3 = pca1.inverse_transform(omega)\n",
        "plt.imshow(inv_proj3[0].reshape(64,64),cmap=plt.cm.bone)"
      ],
      "execution_count": 41,
      "outputs": [
        {
          "output_type": "execute_result",
          "data": {
            "text/plain": [
              "<matplotlib.image.AxesImage at 0x7f4b7f812e10>"
            ]
          },
          "metadata": {
            "tags": []
          },
          "execution_count": 41
        },
        {
          "output_type": "display_data",
          "data": {
            "image/png": "[encoded data removed]",
            "text/plain": [
              "<Figure size 432x288 with 1 Axes>"
            ]
          },
          "metadata": {
            "tags": [],
            "needs_background": "light"
          }
        }
      ]
    },
    {
      "cell_type": "code",
      "metadata": {
        "id": "PB7SVD77hYyD"
      },
      "source": [
        "pca = pca1.components_"
      ],
      "execution_count": 42,
      "outputs": []
    },
    {
      "cell_type": "code",
      "metadata": {
        "id": "H_Hskd5BOexw"
      },
      "source": [
        "x_train_pca = pca1.transform(x_train_norm)"
      ],
      "execution_count": 43,
      "outputs": []
    },
    {
      "cell_type": "code",
      "metadata": {
        "id": "LOK-GYyhhQGU"
      },
      "source": [
        "x_test_pca = pca1.transform(x_test_norm)"
      ],
      "execution_count": 44,
      "outputs": []
    },
    {
      "cell_type": "code",
      "metadata": {
        "id": "tHmlQPzkhkBY",
        "outputId": "09b5a491-c3bc-48be-e09c-1c4db2e43870",
        "colab": {
          "base_uri": "https://localhost:8080/",
          "height": 51
        }
      },
      "source": [
        "print(x_train_pca.shape)\n",
        "print(x_test_pca.shape)"
      ],
      "execution_count": 45,
      "outputs": [
        {
          "output_type": "stream",
          "text": [
            "(150, 150)\n",
            "(50, 150)\n"
          ],
          "name": "stdout"
        }
      ]
    },
    {
      "cell_type": "markdown",
      "metadata": {
        "id": "gekDYSieqwdW"
      },
      "source": [
        "## Trying Neural Networks"
      ]
    },
    {
      "cell_type": "code",
      "metadata": {
        "id": "A9bQFO4Tq1cu"
      },
      "source": [
        "nn = models.Sequential()"
      ],
      "execution_count": 46,
      "outputs": []
    },
    {
      "cell_type": "code",
      "metadata": {
        "id": "qJqEir-1rC25",
        "outputId": "36994a4b-ec1b-4289-ff6b-82e45caf4f30",
        "colab": {
          "base_uri": "https://localhost:8080/",
          "height": 323
        }
      },
      "source": [
        "nn.add(layers.Dense(512, activation='relu', input_shape = (150,)))\n",
        "nn.add(layers.Dense(256, activation='relu'))\n",
        "nn.add(layers.Dense(128, activation='relu'))\n",
        "nn.add(layers.Dense(64, activation='relu'))\n",
        "nn.add(layers.Dense(1, activation = 'sigmoid'))\n",
        "nn.summary()"
      ],
      "execution_count": 47,
      "outputs": [
        {
          "output_type": "stream",
          "text": [
            "Model: \"sequential\"\n",
            "_________________________________________________________________\n",
            "Layer (type)                 Output Shape              Param #   \n",
            "=================================================================\n",
            "dense (Dense)                (None, 512)               77312     \n",
            "_________________________________________________________________\n",
            "dense_1 (Dense)              (None, 256)               131328    \n",
            "_________________________________________________________________\n",
            "dense_2 (Dense)              (None, 128)               32896     \n",
            "_________________________________________________________________\n",
            "dense_3 (Dense)              (None, 64)                8256      \n",
            "_________________________________________________________________\n",
            "dense_4 (Dense)              (None, 1)                 65        \n",
            "=================================================================\n",
            "Total params: 249,857\n",
            "Trainable params: 249,857\n",
            "Non-trainable params: 0\n",
            "_________________________________________________________________\n"
          ],
          "name": "stdout"
        }
      ]
    },
    {
      "cell_type": "code",
      "metadata": {
        "id": "kRvrjPV1rNus",
        "outputId": "6ea81fd7-f10e-4039-d809-c4d95f1805b4",
        "colab": {
          "base_uri": "https://localhost:8080/",
          "height": 1000
        }
      },
      "source": [
        "import time\n",
        "nn.compile(optimizer = 'rmsprop', loss = 'binary_crossentropy', metrics = ['accuracy'])\n",
        "a = time.time()\n",
        "nn.fit(x_train_pca, y_train_norm,batch_size=128, epochs= 1000)\n",
        "b = time.time()"
      ],
      "execution_count": 48,
      "outputs": [
        {
          "output_type": "stream",
          "text": [
            "Epoch 1/1000\n",
            "2/2 [==============================] - 0s 4ms/step - loss: 0.6745 - accuracy: 0.5333\n",
            "Epoch 2/1000\n",
            "2/2 [==============================] - 0s 4ms/step - loss: 0.2451 - accuracy: 0.9933\n",
            "Epoch 3/1000\n",
            "2/2 [==============================] - 0s 5ms/step - loss: 0.1096 - accuracy: 0.9933\n",
            "Epoch 4/1000\n",
            "2/2 [==============================] - 0s 4ms/step - loss: 0.0576 - accuracy: 0.9933\n",
            "Epoch 5/1000\n",
            "2/2 [==============================] - 0s 5ms/step - loss: 0.0329 - accuracy: 0.9933\n",
            "Epoch 6/1000\n",
            "2/2 [==============================] - 0s 7ms/step - loss: 0.0450 - accuracy: 0.9933\n",
            "Epoch 7/1000\n",
            "2/2 [==============================] - 0s 5ms/step - loss: 0.0166 - accuracy: 0.9933\n",
            "Epoch 8/1000\n",
            "2/2 [==============================] - 0s 5ms/step - loss: 0.0059 - accuracy: 1.0000\n",
            "Epoch 9/1000\n",
            "2/2 [==============================] - 0s 5ms/step - loss: 0.0042 - accuracy: 1.0000\n",
            "Epoch 10/1000\n",
            "2/2 [==============================] - 0s 6ms/step - loss: 0.0193 - accuracy: 0.9933\n",
            "Epoch 11/1000\n",
            "2/2 [==============================] - 0s 5ms/step - loss: 0.0047 - accuracy: 1.0000\n",
            "Epoch 12/1000\n",
            "2/2 [==============================] - 0s 5ms/step - loss: 0.0015 - accuracy: 1.0000\n",
            "Epoch 13/1000\n",
            "2/2 [==============================] - 0s 6ms/step - loss: 0.0012 - accuracy: 1.0000\n",
            "Epoch 14/1000\n",
            "2/2 [==============================] - 0s 5ms/step - loss: 9.6177e-04 - accuracy: 1.0000\n",
            "Epoch 15/1000\n",
            "2/2 [==============================] - 0s 4ms/step - loss: 8.0775e-04 - accuracy: 1.0000\n",
            "Epoch 16/1000\n",
            "2/2 [==============================] - 0s 4ms/step - loss: 8.5488e-04 - accuracy: 1.0000\n",
            "Epoch 17/1000\n",
            "2/2 [==============================] - 0s 4ms/step - loss: 0.0061 - accuracy: 0.9933\n",
            "Epoch 18/1000\n",
            "2/2 [==============================] - 0s 5ms/step - loss: 0.0168 - accuracy: 0.9933\n",
            "Epoch 19/1000\n",
            "2/2 [==============================] - 0s 5ms/step - loss: 0.0584 - accuracy: 0.9933\n",
            "Epoch 20/1000\n",
            "2/2 [==============================] - 0s 5ms/step - loss: 0.0332 - accuracy: 0.9933\n",
            "Epoch 21/1000\n",
            "2/2 [==============================] - 0s 4ms/step - loss: 0.0172 - accuracy: 0.9933\n",
            "Epoch 22/1000\n",
            "2/2 [==============================] - 0s 4ms/step - loss: 0.0065 - accuracy: 0.9933\n",
            "Epoch 23/1000\n",
            "2/2 [==============================] - 0s 4ms/step - loss: 0.0024 - accuracy: 1.0000\n",
            "Epoch 24/1000\n",
            "2/2 [==============================] - 0s 4ms/step - loss: 0.0010 - accuracy: 1.0000\n",
            "Epoch 25/1000\n",
            "2/2 [==============================] - 0s 5ms/step - loss: 6.7185e-04 - accuracy: 1.0000\n",
            "Epoch 26/1000\n",
            "2/2 [==============================] - 0s 4ms/step - loss: 2.2560e-04 - accuracy: 1.0000\n",
            "Epoch 27/1000\n",
            "2/2 [==============================] - 0s 6ms/step - loss: 1.9935e-04 - accuracy: 1.0000\n",
            "Epoch 28/1000\n",
            "2/2 [==============================] - 0s 5ms/step - loss: 1.7612e-04 - accuracy: 1.0000\n",
            "Epoch 29/1000\n",
            "2/2 [==============================] - 0s 5ms/step - loss: 1.5612e-04 - accuracy: 1.0000\n",
            "Epoch 30/1000\n",
            "2/2 [==============================] - 0s 4ms/step - loss: 1.3802e-04 - accuracy: 1.0000\n",
            "Epoch 31/1000\n",
            "2/2 [==============================] - 0s 5ms/step - loss: 1.2151e-04 - accuracy: 1.0000\n",
            "Epoch 32/1000\n",
            "2/2 [==============================] - 0s 4ms/step - loss: 1.0712e-04 - accuracy: 1.0000\n",
            "Epoch 33/1000\n",
            "2/2 [==============================] - 0s 4ms/step - loss: 9.4682e-05 - accuracy: 1.0000\n",
            "Epoch 34/1000\n",
            "2/2 [==============================] - 0s 5ms/step - loss: 8.4156e-05 - accuracy: 1.0000\n",
            "Epoch 35/1000\n",
            "2/2 [==============================] - 0s 4ms/step - loss: 6.8711e-05 - accuracy: 1.0000\n",
            "Epoch 36/1000\n",
            "2/2 [==============================] - 0s 7ms/step - loss: 5.5321e-05 - accuracy: 1.0000\n",
            "Epoch 37/1000\n",
            "2/2 [==============================] - 0s 9ms/step - loss: 4.9137e-05 - accuracy: 1.0000\n",
            "Epoch 38/1000\n",
            "2/2 [==============================] - 0s 5ms/step - loss: 4.3788e-05 - accuracy: 1.0000\n",
            "Epoch 39/1000\n",
            "2/2 [==============================] - 0s 3ms/step - loss: 3.9134e-05 - accuracy: 1.0000\n",
            "Epoch 40/1000\n",
            "2/2 [==============================] - 0s 4ms/step - loss: 3.4863e-05 - accuracy: 1.0000\n",
            "Epoch 41/1000\n",
            "2/2 [==============================] - 0s 4ms/step - loss: 3.0929e-05 - accuracy: 1.0000\n",
            "Epoch 42/1000\n",
            "2/2 [==============================] - 0s 9ms/step - loss: 2.5152e-05 - accuracy: 1.0000\n",
            "Epoch 43/1000\n",
            "2/2 [==============================] - 0s 4ms/step - loss: 2.0008e-05 - accuracy: 1.0000\n",
            "Epoch 44/1000\n",
            "2/2 [==============================] - 0s 4ms/step - loss: 1.7901e-05 - accuracy: 1.0000\n",
            "Epoch 45/1000\n",
            "2/2 [==============================] - 0s 4ms/step - loss: 1.6037e-05 - accuracy: 1.0000\n",
            "Epoch 46/1000\n",
            "2/2 [==============================] - 0s 4ms/step - loss: 1.4426e-05 - accuracy: 1.0000\n",
            "Epoch 47/1000\n",
            "2/2 [==============================] - 0s 4ms/step - loss: 1.2938e-05 - accuracy: 1.0000\n",
            "Epoch 48/1000\n",
            "2/2 [==============================] - 0s 4ms/step - loss: 1.1606e-05 - accuracy: 1.0000\n",
            "Epoch 49/1000\n",
            "2/2 [==============================] - 0s 4ms/step - loss: 9.9823e-06 - accuracy: 1.0000\n",
            "Epoch 50/1000\n",
            "2/2 [==============================] - 0s 4ms/step - loss: 8.8644e-06 - accuracy: 1.0000\n",
            "Epoch 51/1000\n",
            "2/2 [==============================] - 0s 4ms/step - loss: 7.9377e-06 - accuracy: 1.0000\n",
            "Epoch 52/1000\n",
            "2/2 [==============================] - 0s 4ms/step - loss: 7.0888e-06 - accuracy: 1.0000\n",
            "Epoch 53/1000\n",
            "2/2 [==============================] - 0s 4ms/step - loss: 6.3514e-06 - accuracy: 1.0000\n",
            "Epoch 54/1000\n",
            "2/2 [==============================] - 0s 5ms/step - loss: 5.4136e-06 - accuracy: 1.0000\n",
            "Epoch 55/1000\n",
            "2/2 [==============================] - 0s 6ms/step - loss: 4.8080e-06 - accuracy: 1.0000\n",
            "Epoch 56/1000\n",
            "2/2 [==============================] - 0s 5ms/step - loss: 4.2785e-06 - accuracy: 1.0000\n",
            "Epoch 57/1000\n",
            "2/2 [==============================] - 0s 4ms/step - loss: 3.7914e-06 - accuracy: 1.0000\n",
            "Epoch 58/1000\n",
            "2/2 [==============================] - 0s 4ms/step - loss: 3.4019e-06 - accuracy: 1.0000\n",
            "Epoch 59/1000\n",
            "2/2 [==============================] - 0s 4ms/step - loss: 3.0385e-06 - accuracy: 1.0000\n",
            "Epoch 60/1000\n",
            "2/2 [==============================] - 0s 4ms/step - loss: 2.7157e-06 - accuracy: 1.0000\n",
            "Epoch 61/1000\n",
            "2/2 [==============================] - 0s 5ms/step - loss: 2.4370e-06 - accuracy: 1.0000\n",
            "Epoch 62/1000\n",
            "2/2 [==============================] - 0s 6ms/step - loss: 2.1718e-06 - accuracy: 1.0000\n",
            "Epoch 63/1000\n",
            "2/2 [==============================] - 0s 4ms/step - loss: 1.9378e-06 - accuracy: 1.0000\n",
            "Epoch 64/1000\n",
            "2/2 [==============================] - 0s 5ms/step - loss: 1.7379e-06 - accuracy: 1.0000\n",
            "Epoch 65/1000\n",
            "2/2 [==============================] - 0s 5ms/step - loss: 1.5589e-06 - accuracy: 1.0000\n",
            "Epoch 66/1000\n",
            "2/2 [==============================] - 0s 4ms/step - loss: 1.4041e-06 - accuracy: 1.0000\n",
            "Epoch 67/1000\n",
            "2/2 [==============================] - 0s 4ms/step - loss: 1.2321e-06 - accuracy: 1.0000\n",
            "Epoch 68/1000\n",
            "2/2 [==============================] - 0s 4ms/step - loss: 1.1043e-06 - accuracy: 1.0000\n",
            "Epoch 69/1000\n",
            "2/2 [==============================] - 0s 4ms/step - loss: 9.9202e-07 - accuracy: 1.0000\n",
            "Epoch 70/1000\n",
            "2/2 [==============================] - 0s 4ms/step - loss: 8.8367e-07 - accuracy: 1.0000\n",
            "Epoch 71/1000\n",
            "2/2 [==============================] - 0s 4ms/step - loss: 7.8458e-07 - accuracy: 1.0000\n",
            "Epoch 72/1000\n",
            "2/2 [==============================] - 0s 4ms/step - loss: 7.0056e-07 - accuracy: 1.0000\n",
            "Epoch 73/1000\n",
            "2/2 [==============================] - 0s 4ms/step - loss: 6.2374e-07 - accuracy: 1.0000\n",
            "Epoch 74/1000\n",
            "2/2 [==============================] - 0s 14ms/step - loss: 5.5958e-07 - accuracy: 1.0000\n",
            "Epoch 75/1000\n",
            "2/2 [==============================] - 0s 6ms/step - loss: 4.9933e-07 - accuracy: 1.0000\n",
            "Epoch 76/1000\n",
            "2/2 [==============================] - 0s 6ms/step - loss: 4.5094e-07 - accuracy: 1.0000\n",
            "Epoch 77/1000\n",
            "2/2 [==============================] - 0s 6ms/step - loss: 4.0747e-07 - accuracy: 1.0000\n",
            "Epoch 78/1000\n",
            "2/2 [==============================] - 0s 8ms/step - loss: 3.6895e-07 - accuracy: 1.0000\n",
            "Epoch 79/1000\n",
            "2/2 [==============================] - 0s 5ms/step - loss: 3.3398e-07 - accuracy: 1.0000\n",
            "Epoch 80/1000\n",
            "2/2 [==============================] - 0s 4ms/step - loss: 3.0290e-07 - accuracy: 1.0000\n",
            "Epoch 81/1000\n",
            "2/2 [==============================] - 0s 4ms/step - loss: 2.7480e-07 - accuracy: 1.0000\n",
            "Epoch 82/1000\n",
            "2/2 [==============================] - 0s 4ms/step - loss: 2.4929e-07 - accuracy: 1.0000\n",
            "Epoch 83/1000\n",
            "2/2 [==============================] - 0s 5ms/step - loss: 2.2649e-07 - accuracy: 1.0000\n",
            "Epoch 84/1000\n",
            "2/2 [==============================] - 0s 4ms/step - loss: 2.0657e-07 - accuracy: 1.0000\n",
            "Epoch 85/1000\n",
            "2/2 [==============================] - 0s 5ms/step - loss: 1.8670e-07 - accuracy: 1.0000\n",
            "Epoch 86/1000\n",
            "2/2 [==============================] - 0s 4ms/step - loss: 1.5413e-07 - accuracy: 1.0000\n",
            "Epoch 87/1000\n",
            "2/2 [==============================] - 0s 5ms/step - loss: 1.4270e-07 - accuracy: 1.0000\n",
            "Epoch 88/1000\n",
            "2/2 [==============================] - 0s 5ms/step - loss: 1.2785e-07 - accuracy: 1.0000\n",
            "Epoch 89/1000\n",
            "2/2 [==============================] - 0s 5ms/step - loss: 1.1758e-07 - accuracy: 1.0000\n",
            "Epoch 90/1000\n",
            "2/2 [==============================] - 0s 5ms/step - loss: 1.0791e-07 - accuracy: 1.0000\n",
            "Epoch 91/1000\n",
            "2/2 [==============================] - 0s 6ms/step - loss: 9.9054e-08 - accuracy: 1.0000\n",
            "Epoch 92/1000\n",
            "2/2 [==============================] - 0s 7ms/step - loss: 9.1311e-08 - accuracy: 1.0000\n",
            "Epoch 93/1000\n",
            "2/2 [==============================] - 0s 5ms/step - loss: 8.3859e-08 - accuracy: 1.0000\n",
            "Epoch 94/1000\n",
            "2/2 [==============================] - 0s 6ms/step - loss: 7.7376e-08 - accuracy: 1.0000\n",
            "Epoch 95/1000\n",
            "2/2 [==============================] - 0s 5ms/step - loss: 7.1098e-08 - accuracy: 1.0000\n",
            "Epoch 96/1000\n",
            "2/2 [==============================] - 0s 4ms/step - loss: 6.6176e-08 - accuracy: 1.0000\n",
            "Epoch 97/1000\n",
            "2/2 [==============================] - 0s 5ms/step - loss: 6.1505e-08 - accuracy: 1.0000\n",
            "Epoch 98/1000\n",
            "2/2 [==============================] - 0s 4ms/step - loss: 5.7472e-08 - accuracy: 1.0000\n",
            "Epoch 99/1000\n",
            "2/2 [==============================] - 0s 4ms/step - loss: 5.3611e-08 - accuracy: 1.0000\n",
            "Epoch 100/1000\n",
            "2/2 [==============================] - 0s 4ms/step - loss: 4.9761e-08 - accuracy: 1.0000\n",
            "Epoch 101/1000\n",
            "2/2 [==============================] - 0s 6ms/step - loss: 4.6883e-08 - accuracy: 1.0000\n",
            "Epoch 102/1000\n",
            "2/2 [==============================] - 0s 7ms/step - loss: 4.3246e-08 - accuracy: 1.0000\n",
            "Epoch 103/1000\n",
            "2/2 [==============================] - 0s 4ms/step - loss: 4.0227e-08 - accuracy: 1.0000\n",
            "Epoch 104/1000\n",
            "2/2 [==============================] - 0s 4ms/step - loss: 3.7568e-08 - accuracy: 1.0000\n",
            "Epoch 105/1000\n",
            "2/2 [==============================] - 0s 5ms/step - loss: 3.5111e-08 - accuracy: 1.0000\n",
            "Epoch 106/1000\n",
            "2/2 [==============================] - 0s 5ms/step - loss: 3.3081e-08 - accuracy: 1.0000\n",
            "Epoch 107/1000\n",
            "2/2 [==============================] - 0s 5ms/step - loss: 3.1078e-08 - accuracy: 1.0000\n",
            "Epoch 108/1000\n",
            "2/2 [==============================] - 0s 4ms/step - loss: 2.9023e-08 - accuracy: 1.0000\n",
            "Epoch 109/1000\n",
            "2/2 [==============================] - 0s 6ms/step - loss: 2.7573e-08 - accuracy: 1.0000\n",
            "Epoch 110/1000\n",
            "2/2 [==============================] - 0s 4ms/step - loss: 2.6156e-08 - accuracy: 1.0000\n",
            "Epoch 111/1000\n",
            "2/2 [==============================] - 0s 5ms/step - loss: 2.5102e-08 - accuracy: 1.0000\n",
            "Epoch 112/1000\n",
            "2/2 [==============================] - 0s 4ms/step - loss: 2.2848e-08 - accuracy: 1.0000\n",
            "Epoch 113/1000\n",
            "2/2 [==============================] - 0s 7ms/step - loss: 2.1883e-08 - accuracy: 1.0000\n",
            "Epoch 114/1000\n",
            "2/2 [==============================] - 0s 4ms/step - loss: 2.0582e-08 - accuracy: 1.0000\n",
            "Epoch 115/1000\n",
            "2/2 [==============================] - 0s 4ms/step - loss: 1.9446e-08 - accuracy: 1.0000\n",
            "Epoch 116/1000\n",
            "2/2 [==============================] - 0s 7ms/step - loss: 1.7495e-08 - accuracy: 1.0000\n",
            "Epoch 117/1000\n",
            "2/2 [==============================] - 0s 4ms/step - loss: 1.6807e-08 - accuracy: 1.0000\n",
            "Epoch 118/1000\n",
            "2/2 [==============================] - 0s 5ms/step - loss: 1.6176e-08 - accuracy: 1.0000\n",
            "Epoch 119/1000\n",
            "2/2 [==============================] - 0s 5ms/step - loss: 1.5648e-08 - accuracy: 1.0000\n",
            "Epoch 120/1000\n",
            "2/2 [==============================] - 0s 4ms/step - loss: 1.5153e-08 - accuracy: 1.0000\n",
            "Epoch 121/1000\n",
            "2/2 [==============================] - 0s 4ms/step - loss: 1.4724e-08 - accuracy: 1.0000\n",
            "Epoch 122/1000\n",
            "2/2 [==============================] - 0s 4ms/step - loss: 1.3075e-08 - accuracy: 1.0000\n",
            "Epoch 123/1000\n",
            "2/2 [==============================] - 0s 7ms/step - loss: 1.2643e-08 - accuracy: 1.0000\n",
            "Epoch 124/1000\n",
            "2/2 [==============================] - 0s 5ms/step - loss: 1.2250e-08 - accuracy: 1.0000\n",
            "Epoch 125/1000\n",
            "2/2 [==============================] - 0s 5ms/step - loss: 1.1866e-08 - accuracy: 1.0000\n",
            "Epoch 126/1000\n",
            "2/2 [==============================] - 0s 5ms/step - loss: 1.1501e-08 - accuracy: 1.0000\n",
            "Epoch 127/1000\n",
            "2/2 [==============================] - 0s 5ms/step - loss: 1.1192e-08 - accuracy: 1.0000\n",
            "Epoch 128/1000\n",
            "2/2 [==============================] - 0s 7ms/step - loss: 1.0862e-08 - accuracy: 1.0000\n",
            "Epoch 129/1000\n",
            "2/2 [==============================] - 0s 5ms/step - loss: 1.0642e-08 - accuracy: 1.0000\n",
            "Epoch 130/1000\n",
            "2/2 [==============================] - 0s 5ms/step - loss: 1.0347e-08 - accuracy: 1.0000\n",
            "Epoch 131/1000\n",
            "2/2 [==============================] - 0s 5ms/step - loss: 1.0051e-08 - accuracy: 1.0000\n",
            "Epoch 132/1000\n",
            "2/2 [==============================] - 0s 5ms/step - loss: 9.7809e-09 - accuracy: 1.0000\n",
            "Epoch 133/1000\n",
            "2/2 [==============================] - 0s 4ms/step - loss: 9.5899e-09 - accuracy: 1.0000\n",
            "Epoch 134/1000\n",
            "2/2 [==============================] - 0s 5ms/step - loss: 8.9013e-09 - accuracy: 1.0000\n",
            "Epoch 135/1000\n",
            "2/2 [==============================] - 0s 6ms/step - loss: 8.7132e-09 - accuracy: 1.0000\n",
            "Epoch 136/1000\n",
            "2/2 [==============================] - 0s 7ms/step - loss: 8.5513e-09 - accuracy: 1.0000\n",
            "Epoch 137/1000\n",
            "2/2 [==============================] - 0s 7ms/step - loss: 8.3812e-09 - accuracy: 1.0000\n",
            "Epoch 138/1000\n",
            "2/2 [==============================] - 0s 6ms/step - loss: 8.2151e-09 - accuracy: 1.0000\n",
            "Epoch 139/1000\n",
            "2/2 [==============================] - 0s 5ms/step - loss: 8.0681e-09 - accuracy: 1.0000\n",
            "Epoch 140/1000\n",
            "2/2 [==============================] - 0s 5ms/step - loss: 7.9798e-09 - accuracy: 1.0000\n",
            "Epoch 141/1000\n",
            "2/2 [==============================] - 0s 4ms/step - loss: 7.6712e-09 - accuracy: 1.0000\n",
            "Epoch 142/1000\n",
            "2/2 [==============================] - 0s 5ms/step - loss: 7.4939e-09 - accuracy: 1.0000\n",
            "Epoch 143/1000\n",
            "2/2 [==============================] - 0s 8ms/step - loss: 7.3496e-09 - accuracy: 1.0000\n",
            "Epoch 144/1000\n",
            "2/2 [==============================] - 0s 5ms/step - loss: 7.2661e-09 - accuracy: 1.0000\n",
            "Epoch 145/1000\n",
            "2/2 [==============================] - 0s 4ms/step - loss: 7.0672e-09 - accuracy: 1.0000\n",
            "Epoch 146/1000\n",
            "2/2 [==============================] - 0s 5ms/step - loss: 6.9651e-09 - accuracy: 1.0000\n",
            "Epoch 147/1000\n",
            "2/2 [==============================] - 0s 11ms/step - loss: 6.8696e-09 - accuracy: 1.0000\n",
            "Epoch 148/1000\n",
            "2/2 [==============================] - 0s 7ms/step - loss: 6.7757e-09 - accuracy: 1.0000\n",
            "Epoch 149/1000\n",
            "2/2 [==============================] - 0s 5ms/step - loss: 6.7258e-09 - accuracy: 1.0000\n",
            "Epoch 150/1000\n",
            "2/2 [==============================] - 0s 6ms/step - loss: 6.4450e-09 - accuracy: 1.0000\n",
            "Epoch 151/1000\n",
            "2/2 [==============================] - 0s 4ms/step - loss: 6.3284e-09 - accuracy: 1.0000\n",
            "Epoch 152/1000\n",
            "2/2 [==============================] - 0s 5ms/step - loss: 6.2340e-09 - accuracy: 1.0000\n",
            "Epoch 153/1000\n",
            "2/2 [==============================] - 0s 5ms/step - loss: 6.1930e-09 - accuracy: 1.0000\n",
            "Epoch 154/1000\n",
            "2/2 [==============================] - 0s 6ms/step - loss: 6.0797e-09 - accuracy: 1.0000\n",
            "Epoch 155/1000\n",
            "2/2 [==============================] - 0s 4ms/step - loss: 5.9693e-09 - accuracy: 1.0000\n",
            "Epoch 156/1000\n",
            "2/2 [==============================] - 0s 4ms/step - loss: 5.8808e-09 - accuracy: 1.0000\n",
            "Epoch 157/1000\n",
            "2/2 [==============================] - 0s 4ms/step - loss: 5.8393e-09 - accuracy: 1.0000\n",
            "Epoch 158/1000\n",
            "2/2 [==============================] - 0s 5ms/step - loss: 5.7201e-09 - accuracy: 1.0000\n",
            "Epoch 159/1000\n",
            "2/2 [==============================] - 0s 4ms/step - loss: 5.6480e-09 - accuracy: 1.0000\n",
            "Epoch 160/1000\n",
            "2/2 [==============================] - 0s 4ms/step - loss: 5.6068e-09 - accuracy: 1.0000\n",
            "Epoch 161/1000\n",
            "2/2 [==============================] - 0s 7ms/step - loss: 5.5678e-09 - accuracy: 1.0000\n",
            "Epoch 162/1000\n",
            "2/2 [==============================] - 0s 6ms/step - loss: 5.5276e-09 - accuracy: 1.0000\n",
            "Epoch 163/1000\n",
            "2/2 [==============================] - 0s 5ms/step - loss: 5.4897e-09 - accuracy: 1.0000\n",
            "Epoch 164/1000\n",
            "2/2 [==============================] - 0s 7ms/step - loss: 5.4525e-09 - accuracy: 1.0000\n",
            "Epoch 165/1000\n",
            "2/2 [==============================] - 0s 5ms/step - loss: 5.4160e-09 - accuracy: 1.0000\n",
            "Epoch 166/1000\n",
            "2/2 [==============================] - 0s 6ms/step - loss: 5.3790e-09 - accuracy: 1.0000\n",
            "Epoch 167/1000\n",
            "2/2 [==============================] - 0s 5ms/step - loss: 5.3425e-09 - accuracy: 1.0000\n",
            "Epoch 168/1000\n",
            "2/2 [==============================] - 0s 5ms/step - loss: 5.3067e-09 - accuracy: 1.0000\n",
            "Epoch 169/1000\n",
            "2/2 [==============================] - 0s 5ms/step - loss: 5.2706e-09 - accuracy: 1.0000\n",
            "Epoch 170/1000\n",
            "2/2 [==============================] - 0s 5ms/step - loss: 5.2517e-09 - accuracy: 1.0000\n",
            "Epoch 171/1000\n",
            "2/2 [==============================] - 0s 6ms/step - loss: 5.2604e-09 - accuracy: 1.0000\n",
            "Epoch 172/1000\n",
            "2/2 [==============================] - 0s 6ms/step - loss: 5.2188e-09 - accuracy: 1.0000\n",
            "Epoch 173/1000\n",
            "2/2 [==============================] - 0s 6ms/step - loss: 5.1782e-09 - accuracy: 1.0000\n",
            "Epoch 174/1000\n",
            "2/2 [==============================] - 0s 5ms/step - loss: 5.1378e-09 - accuracy: 1.0000\n",
            "Epoch 175/1000\n",
            "2/2 [==============================] - 0s 5ms/step - loss: 5.0992e-09 - accuracy: 1.0000\n",
            "Epoch 176/1000\n",
            "2/2 [==============================] - 0s 6ms/step - loss: 5.0647e-09 - accuracy: 1.0000\n",
            "Epoch 177/1000\n",
            "2/2 [==============================] - 0s 5ms/step - loss: 5.0293e-09 - accuracy: 1.0000\n",
            "Epoch 178/1000\n",
            "2/2 [==============================] - 0s 7ms/step - loss: 4.9981e-09 - accuracy: 1.0000\n",
            "Epoch 179/1000\n",
            "2/2 [==============================] - 0s 6ms/step - loss: 4.9654e-09 - accuracy: 1.0000\n",
            "Epoch 180/1000\n",
            "2/2 [==============================] - 0s 7ms/step - loss: 4.9547e-09 - accuracy: 1.0000\n",
            "Epoch 181/1000\n",
            "2/2 [==============================] - 0s 6ms/step - loss: 4.7808e-09 - accuracy: 1.0000\n",
            "Epoch 182/1000\n",
            "2/2 [==============================] - 0s 5ms/step - loss: 4.7707e-09 - accuracy: 1.0000\n",
            "Epoch 183/1000\n",
            "2/2 [==============================] - 0s 5ms/step - loss: 4.7629e-09 - accuracy: 1.0000\n",
            "Epoch 184/1000\n",
            "2/2 [==============================] - 0s 6ms/step - loss: 4.6878e-09 - accuracy: 1.0000\n",
            "Epoch 185/1000\n",
            "2/2 [==============================] - 0s 7ms/step - loss: 4.6332e-09 - accuracy: 1.0000\n",
            "Epoch 186/1000\n",
            "2/2 [==============================] - 0s 10ms/step - loss: 4.5940e-09 - accuracy: 1.0000\n",
            "Epoch 187/1000\n",
            "2/2 [==============================] - 0s 5ms/step - loss: 4.5579e-09 - accuracy: 1.0000\n",
            "Epoch 188/1000\n",
            "2/2 [==============================] - 0s 6ms/step - loss: 4.5246e-09 - accuracy: 1.0000\n",
            "Epoch 189/1000\n",
            "2/2 [==============================] - 0s 5ms/step - loss: 4.4965e-09 - accuracy: 1.0000\n",
            "Epoch 190/1000\n",
            "2/2 [==============================] - 0s 5ms/step - loss: 4.4671e-09 - accuracy: 1.0000\n",
            "Epoch 191/1000\n",
            "2/2 [==============================] - 0s 5ms/step - loss: 4.4408e-09 - accuracy: 1.0000\n",
            "Epoch 192/1000\n",
            "2/2 [==============================] - 0s 5ms/step - loss: 4.4324e-09 - accuracy: 1.0000\n",
            "Epoch 193/1000\n",
            "2/2 [==============================] - 0s 7ms/step - loss: 4.3986e-09 - accuracy: 1.0000\n",
            "Epoch 194/1000\n",
            "2/2 [==============================] - 0s 6ms/step - loss: 4.3747e-09 - accuracy: 1.0000\n",
            "Epoch 195/1000\n",
            "2/2 [==============================] - 0s 6ms/step - loss: 4.3527e-09 - accuracy: 1.0000\n",
            "Epoch 196/1000\n",
            "2/2 [==============================] - 0s 5ms/step - loss: 4.3308e-09 - accuracy: 1.0000\n",
            "Epoch 197/1000\n",
            "2/2 [==============================] - 0s 5ms/step - loss: 4.3077e-09 - accuracy: 1.0000\n",
            "Epoch 198/1000\n",
            "2/2 [==============================] - 0s 4ms/step - loss: 4.2857e-09 - accuracy: 1.0000\n",
            "Epoch 199/1000\n",
            "2/2 [==============================] - 0s 6ms/step - loss: 4.2839e-09 - accuracy: 1.0000\n",
            "Epoch 200/1000\n",
            "2/2 [==============================] - 0s 7ms/step - loss: 4.2415e-09 - accuracy: 1.0000\n",
            "Epoch 201/1000\n",
            "2/2 [==============================] - 0s 7ms/step - loss: 4.1478e-09 - accuracy: 1.0000\n",
            "Epoch 202/1000\n",
            "2/2 [==============================] - 0s 5ms/step - loss: 4.0843e-09 - accuracy: 1.0000\n",
            "Epoch 203/1000\n",
            "2/2 [==============================] - 0s 5ms/step - loss: 4.0649e-09 - accuracy: 1.0000\n",
            "Epoch 204/1000\n",
            "2/2 [==============================] - 0s 4ms/step - loss: 4.0445e-09 - accuracy: 1.0000\n",
            "Epoch 205/1000\n",
            "2/2 [==============================] - 0s 5ms/step - loss: 4.0257e-09 - accuracy: 1.0000\n",
            "Epoch 206/1000\n",
            "2/2 [==============================] - 0s 6ms/step - loss: 4.0062e-09 - accuracy: 1.0000\n",
            "Epoch 207/1000\n",
            "2/2 [==============================] - 0s 5ms/step - loss: 3.9896e-09 - accuracy: 1.0000\n",
            "Epoch 208/1000\n",
            "2/2 [==============================] - 0s 6ms/step - loss: 3.9820e-09 - accuracy: 1.0000\n",
            "Epoch 209/1000\n",
            "2/2 [==============================] - 0s 7ms/step - loss: 3.9653e-09 - accuracy: 1.0000\n",
            "Epoch 210/1000\n",
            "2/2 [==============================] - 0s 6ms/step - loss: 3.9721e-09 - accuracy: 1.0000\n",
            "Epoch 211/1000\n",
            "2/2 [==============================] - 0s 6ms/step - loss: 3.9551e-09 - accuracy: 1.0000\n",
            "Epoch 212/1000\n",
            "2/2 [==============================] - 0s 5ms/step - loss: 3.9459e-09 - accuracy: 1.0000\n",
            "Epoch 213/1000\n",
            "2/2 [==============================] - 0s 4ms/step - loss: 3.9232e-09 - accuracy: 1.0000\n",
            "Epoch 214/1000\n",
            "2/2 [==============================] - 0s 5ms/step - loss: 3.9023e-09 - accuracy: 1.0000\n",
            "Epoch 215/1000\n",
            "2/2 [==============================] - 0s 7ms/step - loss: 3.8804e-09 - accuracy: 1.0000\n",
            "Epoch 216/1000\n",
            "2/2 [==============================] - 0s 5ms/step - loss: 3.8745e-09 - accuracy: 1.0000\n",
            "Epoch 217/1000\n",
            "2/2 [==============================] - 0s 6ms/step - loss: 3.8499e-09 - accuracy: 1.0000\n",
            "Epoch 218/1000\n",
            "2/2 [==============================] - 0s 7ms/step - loss: 3.8279e-09 - accuracy: 1.0000\n",
            "Epoch 219/1000\n",
            "2/2 [==============================] - 0s 7ms/step - loss: 3.8072e-09 - accuracy: 1.0000\n",
            "Epoch 220/1000\n",
            "2/2 [==============================] - 0s 7ms/step - loss: 3.7862e-09 - accuracy: 1.0000\n",
            "Epoch 221/1000\n",
            "2/2 [==============================] - 0s 5ms/step - loss: 3.7699e-09 - accuracy: 1.0000\n",
            "Epoch 222/1000\n",
            "2/2 [==============================] - 0s 4ms/step - loss: 3.7664e-09 - accuracy: 1.0000\n",
            "Epoch 223/1000\n",
            "2/2 [==============================] - 0s 7ms/step - loss: 3.7495e-09 - accuracy: 1.0000\n",
            "Epoch 224/1000\n",
            "2/2 [==============================] - 0s 5ms/step - loss: 3.7482e-09 - accuracy: 1.0000\n",
            "Epoch 225/1000\n",
            "2/2 [==============================] - 0s 5ms/step - loss: 3.7457e-09 - accuracy: 1.0000\n",
            "Epoch 226/1000\n",
            "2/2 [==============================] - 0s 6ms/step - loss: 3.7282e-09 - accuracy: 1.0000\n",
            "Epoch 227/1000\n",
            "2/2 [==============================] - 0s 6ms/step - loss: 3.7382e-09 - accuracy: 1.0000\n",
            "Epoch 228/1000\n",
            "2/2 [==============================] - 0s 6ms/step - loss: 3.7168e-09 - accuracy: 1.0000\n",
            "Epoch 229/1000\n",
            "2/2 [==============================] - 0s 6ms/step - loss: 3.6955e-09 - accuracy: 1.0000\n",
            "Epoch 230/1000\n",
            "2/2 [==============================] - 0s 5ms/step - loss: 3.6747e-09 - accuracy: 1.0000\n",
            "Epoch 231/1000\n",
            "2/2 [==============================] - 0s 5ms/step - loss: 3.6577e-09 - accuracy: 1.0000\n",
            "Epoch 232/1000\n",
            "2/2 [==============================] - 0s 6ms/step - loss: 3.6575e-09 - accuracy: 1.0000\n",
            "Epoch 233/1000\n",
            "2/2 [==============================] - 0s 7ms/step - loss: 3.6664e-09 - accuracy: 1.0000\n",
            "Epoch 234/1000\n",
            "2/2 [==============================] - 0s 6ms/step - loss: 3.6482e-09 - accuracy: 1.0000\n",
            "Epoch 235/1000\n",
            "2/2 [==============================] - 0s 6ms/step - loss: 3.6363e-09 - accuracy: 1.0000\n",
            "Epoch 236/1000\n",
            "2/2 [==============================] - 0s 4ms/step - loss: 3.6181e-09 - accuracy: 1.0000\n",
            "Epoch 237/1000\n",
            "2/2 [==============================] - 0s 6ms/step - loss: 3.5953e-09 - accuracy: 1.0000\n",
            "Epoch 238/1000\n",
            "2/2 [==============================] - 0s 6ms/step - loss: 3.5758e-09 - accuracy: 1.0000\n",
            "Epoch 239/1000\n",
            "2/2 [==============================] - 0s 7ms/step - loss: 3.5847e-09 - accuracy: 1.0000\n",
            "Epoch 240/1000\n",
            "2/2 [==============================] - 0s 7ms/step - loss: 3.5740e-09 - accuracy: 1.0000\n",
            "Epoch 241/1000\n",
            "2/2 [==============================] - 0s 6ms/step - loss: 3.5571e-09 - accuracy: 1.0000\n",
            "Epoch 242/1000\n",
            "2/2 [==============================] - 0s 4ms/step - loss: 3.5324e-09 - accuracy: 1.0000\n",
            "Epoch 243/1000\n",
            "2/2 [==============================] - 0s 10ms/step - loss: 3.5137e-09 - accuracy: 1.0000\n",
            "Epoch 244/1000\n",
            "2/2 [==============================] - 0s 6ms/step - loss: 3.5212e-09 - accuracy: 1.0000\n",
            "Epoch 245/1000\n",
            "2/2 [==============================] - 0s 6ms/step - loss: 3.5033e-09 - accuracy: 1.0000\n",
            "Epoch 246/1000\n",
            "2/2 [==============================] - 0s 6ms/step - loss: 3.4902e-09 - accuracy: 1.0000\n",
            "Epoch 247/1000\n",
            "2/2 [==============================] - 0s 6ms/step - loss: 3.4729e-09 - accuracy: 1.0000\n",
            "Epoch 248/1000\n",
            "2/2 [==============================] - 0s 6ms/step - loss: 3.4528e-09 - accuracy: 1.0000\n",
            "Epoch 249/1000\n",
            "2/2 [==============================] - 0s 6ms/step - loss: 3.4517e-09 - accuracy: 1.0000\n",
            "Epoch 250/1000\n",
            "2/2 [==============================] - 0s 9ms/step - loss: 3.4330e-09 - accuracy: 1.0000\n",
            "Epoch 251/1000\n",
            "2/2 [==============================] - 0s 7ms/step - loss: 3.4340e-09 - accuracy: 1.0000\n",
            "Epoch 252/1000\n",
            "2/2 [==============================] - 0s 6ms/step - loss: 3.4353e-09 - accuracy: 1.0000\n",
            "Epoch 253/1000\n",
            "2/2 [==============================] - 0s 6ms/step - loss: 3.4345e-09 - accuracy: 1.0000\n",
            "Epoch 254/1000\n",
            "2/2 [==============================] - 0s 4ms/step - loss: 3.4152e-09 - accuracy: 1.0000\n",
            "Epoch 255/1000\n",
            "2/2 [==============================] - 0s 4ms/step - loss: 3.4261e-09 - accuracy: 1.0000\n",
            "Epoch 256/1000\n",
            "2/2 [==============================] - 0s 6ms/step - loss: 3.4052e-09 - accuracy: 1.0000\n",
            "Epoch 257/1000\n",
            "2/2 [==============================] - 0s 4ms/step - loss: 3.4234e-09 - accuracy: 1.0000\n",
            "Epoch 258/1000\n",
            "2/2 [==============================] - 0s 5ms/step - loss: 3.4109e-09 - accuracy: 1.0000\n",
            "Epoch 259/1000\n",
            "2/2 [==============================] - 0s 7ms/step - loss: 3.3985e-09 - accuracy: 1.0000\n",
            "Epoch 260/1000\n",
            "2/2 [==============================] - 0s 6ms/step - loss: 3.3959e-09 - accuracy: 1.0000\n",
            "Epoch 261/1000\n",
            "2/2 [==============================] - 0s 5ms/step - loss: 3.3684e-09 - accuracy: 1.0000\n",
            "Epoch 262/1000\n",
            "2/2 [==============================] - 0s 6ms/step - loss: 3.3480e-09 - accuracy: 1.0000\n",
            "Epoch 263/1000\n",
            "2/2 [==============================] - 0s 5ms/step - loss: 3.3484e-09 - accuracy: 1.0000\n",
            "Epoch 264/1000\n",
            "2/2 [==============================] - 0s 6ms/step - loss: 3.3277e-09 - accuracy: 1.0000\n",
            "Epoch 265/1000\n",
            "2/2 [==============================] - 0s 7ms/step - loss: 3.3290e-09 - accuracy: 1.0000\n",
            "Epoch 266/1000\n",
            "2/2 [==============================] - 0s 9ms/step - loss: 3.3305e-09 - accuracy: 1.0000\n",
            "Epoch 267/1000\n",
            "2/2 [==============================] - 0s 7ms/step - loss: 3.3355e-09 - accuracy: 1.0000\n",
            "Epoch 268/1000\n",
            "2/2 [==============================] - 0s 6ms/step - loss: 3.3313e-09 - accuracy: 1.0000\n",
            "Epoch 269/1000\n",
            "2/2 [==============================] - 0s 6ms/step - loss: 3.3114e-09 - accuracy: 1.0000\n",
            "Epoch 270/1000\n",
            "2/2 [==============================] - 0s 7ms/step - loss: 3.3129e-09 - accuracy: 1.0000\n",
            "Epoch 271/1000\n",
            "2/2 [==============================] - 0s 4ms/step - loss: 3.3142e-09 - accuracy: 1.0000\n",
            "Epoch 272/1000\n",
            "2/2 [==============================] - 0s 6ms/step - loss: 3.3313e-09 - accuracy: 1.0000\n",
            "Epoch 273/1000\n",
            "2/2 [==============================] - 0s 4ms/step - loss: 3.3178e-09 - accuracy: 1.0000\n",
            "Epoch 274/1000\n",
            "2/2 [==============================] - 0s 9ms/step - loss: 3.3151e-09 - accuracy: 1.0000\n",
            "Epoch 275/1000\n",
            "2/2 [==============================] - 0s 5ms/step - loss: 3.2957e-09 - accuracy: 1.0000\n",
            "Epoch 276/1000\n",
            "2/2 [==============================] - 0s 6ms/step - loss: 3.2827e-09 - accuracy: 1.0000\n",
            "Epoch 277/1000\n",
            "2/2 [==============================] - 0s 8ms/step - loss: 3.2794e-09 - accuracy: 1.0000\n",
            "Epoch 278/1000\n",
            "2/2 [==============================] - 0s 6ms/step - loss: 3.2581e-09 - accuracy: 1.0000\n",
            "Epoch 279/1000\n",
            "2/2 [==============================] - 0s 4ms/step - loss: 3.2596e-09 - accuracy: 1.0000\n",
            "Epoch 280/1000\n",
            "2/2 [==============================] - 0s 4ms/step - loss: 3.2612e-09 - accuracy: 1.0000\n",
            "Epoch 281/1000\n",
            "2/2 [==============================] - 0s 5ms/step - loss: 3.2610e-09 - accuracy: 1.0000\n",
            "Epoch 282/1000\n",
            "2/2 [==============================] - 0s 5ms/step - loss: 3.2401e-09 - accuracy: 1.0000\n",
            "Epoch 283/1000\n",
            "2/2 [==============================] - 0s 4ms/step - loss: 3.2416e-09 - accuracy: 1.0000\n",
            "Epoch 284/1000\n",
            "2/2 [==============================] - 0s 5ms/step - loss: 3.2432e-09 - accuracy: 1.0000\n",
            "Epoch 285/1000\n",
            "2/2 [==============================] - 0s 4ms/step - loss: 3.2448e-09 - accuracy: 1.0000\n",
            "Epoch 286/1000\n",
            "2/2 [==============================] - 0s 5ms/step - loss: 3.2465e-09 - accuracy: 1.0000\n",
            "Epoch 287/1000\n",
            "2/2 [==============================] - 0s 8ms/step - loss: 3.2463e-09 - accuracy: 1.0000\n",
            "Epoch 288/1000\n",
            "2/2 [==============================] - 0s 5ms/step - loss: 3.2251e-09 - accuracy: 1.0000\n",
            "Epoch 289/1000\n",
            "2/2 [==============================] - 0s 5ms/step - loss: 3.2266e-09 - accuracy: 1.0000\n",
            "Epoch 290/1000\n",
            "2/2 [==============================] - 0s 5ms/step - loss: 3.2282e-09 - accuracy: 1.0000\n",
            "Epoch 291/1000\n",
            "2/2 [==============================] - 0s 4ms/step - loss: 3.2298e-09 - accuracy: 1.0000\n",
            "Epoch 292/1000\n",
            "2/2 [==============================] - 0s 4ms/step - loss: 3.2314e-09 - accuracy: 1.0000\n",
            "Epoch 293/1000\n",
            "2/2 [==============================] - 0s 7ms/step - loss: 3.2483e-09 - accuracy: 1.0000\n",
            "Epoch 294/1000\n",
            "2/2 [==============================] - 0s 4ms/step - loss: 3.2268e-09 - accuracy: 1.0000\n",
            "Epoch 295/1000\n",
            "2/2 [==============================] - 0s 6ms/step - loss: 3.2028e-09 - accuracy: 1.0000\n",
            "Epoch 296/1000\n",
            "2/2 [==============================] - 0s 4ms/step - loss: 3.2177e-09 - accuracy: 1.0000\n",
            "Epoch 297/1000\n",
            "2/2 [==============================] - 0s 5ms/step - loss: 3.2158e-09 - accuracy: 1.0000\n",
            "Epoch 298/1000\n",
            "2/2 [==============================] - 0s 6ms/step - loss: 3.1905e-09 - accuracy: 1.0000\n",
            "Epoch 299/1000\n",
            "2/2 [==============================] - 0s 4ms/step - loss: 3.1921e-09 - accuracy: 1.0000\n",
            "Epoch 300/1000\n",
            "2/2 [==============================] - 0s 4ms/step - loss: 3.1979e-09 - accuracy: 1.0000\n",
            "Epoch 301/1000\n",
            "2/2 [==============================] - 0s 5ms/step - loss: 3.1797e-09 - accuracy: 1.0000\n",
            "Epoch 302/1000\n",
            "2/2 [==============================] - 0s 5ms/step - loss: 3.1841e-09 - accuracy: 1.0000\n",
            "Epoch 303/1000\n",
            "2/2 [==============================] - 0s 9ms/step - loss: 3.1825e-09 - accuracy: 1.0000\n",
            "Epoch 304/1000\n",
            "2/2 [==============================] - 0s 4ms/step - loss: 3.1581e-09 - accuracy: 1.0000\n",
            "Epoch 305/1000\n",
            "2/2 [==============================] - 0s 4ms/step - loss: 3.1598e-09 - accuracy: 1.0000\n",
            "Epoch 306/1000\n",
            "2/2 [==============================] - 0s 4ms/step - loss: 3.1614e-09 - accuracy: 1.0000\n",
            "Epoch 307/1000\n",
            "2/2 [==============================] - 0s 4ms/step - loss: 3.1657e-09 - accuracy: 1.0000\n",
            "Epoch 308/1000\n",
            "2/2 [==============================] - 0s 6ms/step - loss: 3.1649e-09 - accuracy: 1.0000\n",
            "Epoch 309/1000\n",
            "2/2 [==============================] - 0s 5ms/step - loss: 3.1692e-09 - accuracy: 1.0000\n",
            "Epoch 310/1000\n",
            "2/2 [==============================] - 0s 5ms/step - loss: 3.1718e-09 - accuracy: 1.0000\n",
            "Epoch 311/1000\n",
            "2/2 [==============================] - 0s 5ms/step - loss: 3.1533e-09 - accuracy: 1.0000\n",
            "Epoch 312/1000\n",
            "2/2 [==============================] - 0s 6ms/step - loss: 3.1523e-09 - accuracy: 1.0000\n",
            "Epoch 313/1000\n",
            "2/2 [==============================] - 0s 6ms/step - loss: 3.1300e-09 - accuracy: 1.0000\n",
            "Epoch 314/1000\n",
            "2/2 [==============================] - 0s 6ms/step - loss: 3.1316e-09 - accuracy: 1.0000\n",
            "Epoch 315/1000\n",
            "2/2 [==============================] - 0s 7ms/step - loss: 3.1331e-09 - accuracy: 1.0000\n",
            "Epoch 316/1000\n",
            "2/2 [==============================] - 0s 4ms/step - loss: 3.1348e-09 - accuracy: 1.0000\n",
            "Epoch 317/1000\n",
            "2/2 [==============================] - 0s 5ms/step - loss: 3.1366e-09 - accuracy: 1.0000\n",
            "Epoch 318/1000\n",
            "2/2 [==============================] - 0s 5ms/step - loss: 3.1383e-09 - accuracy: 1.0000\n",
            "Epoch 319/1000\n",
            "2/2 [==============================] - 0s 9ms/step - loss: 3.1401e-09 - accuracy: 1.0000\n",
            "Epoch 320/1000\n",
            "2/2 [==============================] - 0s 7ms/step - loss: 3.1442e-09 - accuracy: 1.0000\n",
            "Epoch 321/1000\n",
            "2/2 [==============================] - 0s 6ms/step - loss: 3.1460e-09 - accuracy: 1.0000\n",
            "Epoch 322/1000\n",
            "2/2 [==============================] - 0s 6ms/step - loss: 3.1444e-09 - accuracy: 1.0000\n",
            "Epoch 323/1000\n",
            "2/2 [==============================] - 0s 6ms/step - loss: 3.1189e-09 - accuracy: 1.0000\n",
            "Epoch 324/1000\n",
            "2/2 [==============================] - 0s 5ms/step - loss: 3.1263e-09 - accuracy: 1.0000\n",
            "Epoch 325/1000\n",
            "2/2 [==============================] - 0s 6ms/step - loss: 3.1040e-09 - accuracy: 1.0000\n",
            "Epoch 326/1000\n",
            "2/2 [==============================] - 0s 5ms/step - loss: 3.1079e-09 - accuracy: 1.0000\n",
            "Epoch 327/1000\n",
            "2/2 [==============================] - 0s 7ms/step - loss: 3.1073e-09 - accuracy: 1.0000\n",
            "Epoch 328/1000\n",
            "2/2 [==============================] - 0s 8ms/step - loss: 3.1091e-09 - accuracy: 1.0000\n",
            "Epoch 329/1000\n",
            "2/2 [==============================] - 0s 6ms/step - loss: 3.1107e-09 - accuracy: 1.0000\n",
            "Epoch 330/1000\n",
            "2/2 [==============================] - 0s 7ms/step - loss: 3.1125e-09 - accuracy: 1.0000\n",
            "Epoch 331/1000\n",
            "2/2 [==============================] - 0s 5ms/step - loss: 3.1141e-09 - accuracy: 1.0000\n",
            "Epoch 332/1000\n",
            "2/2 [==============================] - 0s 6ms/step - loss: 3.1236e-09 - accuracy: 1.0000\n",
            "Epoch 333/1000\n",
            "2/2 [==============================] - 0s 7ms/step - loss: 3.0973e-09 - accuracy: 1.0000\n",
            "Epoch 334/1000\n",
            "2/2 [==============================] - 0s 6ms/step - loss: 3.1012e-09 - accuracy: 1.0000\n",
            "Epoch 335/1000\n",
            "2/2 [==============================] - 0s 7ms/step - loss: 3.1007e-09 - accuracy: 1.0000\n",
            "Epoch 336/1000\n",
            "2/2 [==============================] - 0s 6ms/step - loss: 3.1006e-09 - accuracy: 1.0000\n",
            "Epoch 337/1000\n",
            "2/2 [==============================] - 0s 6ms/step - loss: 3.0766e-09 - accuracy: 1.0000\n",
            "Epoch 338/1000\n",
            "2/2 [==============================] - 0s 6ms/step - loss: 3.0782e-09 - accuracy: 1.0000\n",
            "Epoch 339/1000\n",
            "2/2 [==============================] - 0s 4ms/step - loss: 3.0799e-09 - accuracy: 1.0000\n",
            "Epoch 340/1000\n",
            "2/2 [==============================] - 0s 6ms/step - loss: 3.0816e-09 - accuracy: 1.0000\n",
            "Epoch 341/1000\n",
            "2/2 [==============================] - 0s 6ms/step - loss: 3.0832e-09 - accuracy: 1.0000\n",
            "Epoch 342/1000\n",
            "2/2 [==============================] - 0s 5ms/step - loss: 3.0917e-09 - accuracy: 1.0000\n",
            "Epoch 343/1000\n",
            "2/2 [==============================] - 0s 6ms/step - loss: 3.0668e-09 - accuracy: 1.0000\n",
            "Epoch 344/1000\n",
            "2/2 [==============================] - 0s 4ms/step - loss: 3.0707e-09 - accuracy: 1.0000\n",
            "Epoch 345/1000\n",
            "2/2 [==============================] - 0s 8ms/step - loss: 3.0702e-09 - accuracy: 1.0000\n",
            "Epoch 346/1000\n",
            "2/2 [==============================] - 0s 7ms/step - loss: 3.0770e-09 - accuracy: 1.0000\n",
            "Epoch 347/1000\n",
            "2/2 [==============================] - 0s 5ms/step - loss: 3.0536e-09 - accuracy: 1.0000\n",
            "Epoch 348/1000\n",
            "2/2 [==============================] - 0s 6ms/step - loss: 3.0553e-09 - accuracy: 1.0000\n",
            "Epoch 349/1000\n",
            "2/2 [==============================] - 0s 7ms/step - loss: 3.0571e-09 - accuracy: 1.0000\n",
            "Epoch 350/1000\n",
            "2/2 [==============================] - 0s 7ms/step - loss: 3.0587e-09 - accuracy: 1.0000\n",
            "Epoch 351/1000\n",
            "2/2 [==============================] - 0s 6ms/step - loss: 3.0605e-09 - accuracy: 1.0000\n",
            "Epoch 352/1000\n",
            "2/2 [==============================] - 0s 7ms/step - loss: 3.0620e-09 - accuracy: 1.0000\n",
            "Epoch 353/1000\n",
            "2/2 [==============================] - 0s 7ms/step - loss: 3.0656e-09 - accuracy: 1.0000\n",
            "Epoch 354/1000\n",
            "2/2 [==============================] - 0s 7ms/step - loss: 3.0627e-09 - accuracy: 1.0000\n",
            "Epoch 355/1000\n",
            "2/2 [==============================] - 0s 5ms/step - loss: 3.0390e-09 - accuracy: 1.0000\n",
            "Epoch 356/1000\n",
            "2/2 [==============================] - 0s 8ms/step - loss: 3.0405e-09 - accuracy: 1.0000\n",
            "Epoch 357/1000\n",
            "2/2 [==============================] - 0s 5ms/step - loss: 3.0421e-09 - accuracy: 1.0000\n",
            "Epoch 358/1000\n",
            "2/2 [==============================] - 0s 7ms/step - loss: 3.0542e-09 - accuracy: 1.0000\n",
            "Epoch 359/1000\n",
            "2/2 [==============================] - 0s 6ms/step - loss: 3.0522e-09 - accuracy: 1.0000\n",
            "Epoch 360/1000\n",
            "2/2 [==============================] - 0s 5ms/step - loss: 3.0273e-09 - accuracy: 1.0000\n",
            "Epoch 361/1000\n",
            "2/2 [==============================] - 0s 6ms/step - loss: 3.0309e-09 - accuracy: 1.0000\n",
            "Epoch 362/1000\n",
            "2/2 [==============================] - 0s 4ms/step - loss: 3.0304e-09 - accuracy: 1.0000\n",
            "Epoch 363/1000\n",
            "2/2 [==============================] - 0s 4ms/step - loss: 3.0404e-09 - accuracy: 1.0000\n",
            "Epoch 364/1000\n",
            "2/2 [==============================] - 0s 8ms/step - loss: 3.0396e-09 - accuracy: 1.0000\n",
            "Epoch 365/1000\n",
            "2/2 [==============================] - 0s 5ms/step - loss: 3.0153e-09 - accuracy: 1.0000\n",
            "Epoch 366/1000\n",
            "2/2 [==============================] - 0s 13ms/step - loss: 3.0169e-09 - accuracy: 1.0000\n",
            "Epoch 367/1000\n",
            "2/2 [==============================] - 0s 6ms/step - loss: 3.0185e-09 - accuracy: 1.0000\n",
            "Epoch 368/1000\n",
            "2/2 [==============================] - 0s 4ms/step - loss: 3.0201e-09 - accuracy: 1.0000\n",
            "Epoch 369/1000\n",
            "2/2 [==============================] - 0s 5ms/step - loss: 3.0218e-09 - accuracy: 1.0000\n",
            "Epoch 370/1000\n",
            "2/2 [==============================] - 0s 7ms/step - loss: 3.0232e-09 - accuracy: 1.0000\n",
            "Epoch 371/1000\n",
            "2/2 [==============================] - 0s 6ms/step - loss: 3.0306e-09 - accuracy: 1.0000\n",
            "Epoch 372/1000\n",
            "2/2 [==============================] - 0s 6ms/step - loss: 3.0051e-09 - accuracy: 1.0000\n",
            "Epoch 373/1000\n",
            "2/2 [==============================] - 0s 6ms/step - loss: 3.0085e-09 - accuracy: 1.0000\n",
            "Epoch 374/1000\n",
            "2/2 [==============================] - 0s 6ms/step - loss: 3.0083e-09 - accuracy: 1.0000\n",
            "Epoch 375/1000\n",
            "2/2 [==============================] - 0s 6ms/step - loss: 3.0098e-09 - accuracy: 1.0000\n",
            "Epoch 376/1000\n",
            "2/2 [==============================] - 0s 6ms/step - loss: 3.0172e-09 - accuracy: 1.0000\n",
            "Epoch 377/1000\n",
            "2/2 [==============================] - 0s 7ms/step - loss: 2.9919e-09 - accuracy: 1.0000\n",
            "Epoch 378/1000\n",
            "2/2 [==============================] - 0s 3ms/step - loss: 2.9935e-09 - accuracy: 1.0000\n",
            "Epoch 379/1000\n",
            "2/2 [==============================] - 0s 6ms/step - loss: 2.9950e-09 - accuracy: 1.0000\n",
            "Epoch 380/1000\n",
            "2/2 [==============================] - 0s 7ms/step - loss: 2.9984e-09 - accuracy: 1.0000\n",
            "Epoch 381/1000\n",
            "2/2 [==============================] - 0s 5ms/step - loss: 2.9982e-09 - accuracy: 1.0000\n",
            "Epoch 382/1000\n",
            "2/2 [==============================] - 0s 5ms/step - loss: 2.9998e-09 - accuracy: 1.0000\n",
            "Epoch 383/1000\n",
            "2/2 [==============================] - 0s 7ms/step - loss: 3.0012e-09 - accuracy: 1.0000\n",
            "Epoch 384/1000\n",
            "2/2 [==============================] - 0s 5ms/step - loss: 3.0027e-09 - accuracy: 1.0000\n",
            "Epoch 385/1000\n",
            "2/2 [==============================] - 0s 4ms/step - loss: 3.0106e-09 - accuracy: 1.0000\n",
            "Epoch 386/1000\n",
            "2/2 [==============================] - 0s 8ms/step - loss: 2.9827e-09 - accuracy: 1.0000\n",
            "Epoch 387/1000\n",
            "2/2 [==============================] - 0s 6ms/step - loss: 2.9860e-09 - accuracy: 1.0000\n",
            "Epoch 388/1000\n",
            "2/2 [==============================] - 0s 9ms/step - loss: 2.9858e-09 - accuracy: 1.0000\n",
            "Epoch 389/1000\n",
            "2/2 [==============================] - 0s 6ms/step - loss: 2.9873e-09 - accuracy: 1.0000\n",
            "Epoch 390/1000\n",
            "2/2 [==============================] - 0s 5ms/step - loss: 2.9888e-09 - accuracy: 1.0000\n",
            "Epoch 391/1000\n",
            "2/2 [==============================] - 0s 6ms/step - loss: 2.9920e-09 - accuracy: 1.0000\n",
            "Epoch 392/1000\n",
            "2/2 [==============================] - 0s 6ms/step - loss: 2.9918e-09 - accuracy: 1.0000\n",
            "Epoch 393/1000\n",
            "2/2 [==============================] - 0s 5ms/step - loss: 2.9986e-09 - accuracy: 1.0000\n",
            "Epoch 394/1000\n",
            "2/2 [==============================] - 0s 8ms/step - loss: 2.9713e-09 - accuracy: 1.0000\n",
            "Epoch 395/1000\n",
            "2/2 [==============================] - 0s 8ms/step - loss: 2.9728e-09 - accuracy: 1.0000\n",
            "Epoch 396/1000\n",
            "2/2 [==============================] - 0s 5ms/step - loss: 2.9760e-09 - accuracy: 1.0000\n",
            "Epoch 397/1000\n",
            "2/2 [==============================] - 0s 5ms/step - loss: 2.9759e-09 - accuracy: 1.0000\n",
            "Epoch 398/1000\n",
            "2/2 [==============================] - 0s 8ms/step - loss: 2.9775e-09 - accuracy: 1.0000\n",
            "Epoch 399/1000\n",
            "2/2 [==============================] - 0s 5ms/step - loss: 2.9807e-09 - accuracy: 1.0000\n",
            "Epoch 400/1000\n",
            "2/2 [==============================] - 0s 5ms/step - loss: 2.9806e-09 - accuracy: 1.0000\n",
            "Epoch 401/1000\n",
            "2/2 [==============================] - 0s 5ms/step - loss: 2.9823e-09 - accuracy: 1.0000\n",
            "Epoch 402/1000\n",
            "2/2 [==============================] - 0s 6ms/step - loss: 2.9926e-09 - accuracy: 1.0000\n",
            "Epoch 403/1000\n",
            "2/2 [==============================] - 0s 8ms/step - loss: 2.9701e-09 - accuracy: 1.0000\n",
            "Epoch 404/1000\n",
            "2/2 [==============================] - 0s 7ms/step - loss: 2.9700e-09 - accuracy: 1.0000\n",
            "Epoch 405/1000\n",
            "2/2 [==============================] - 0s 13ms/step - loss: 2.9731e-09 - accuracy: 1.0000\n",
            "Epoch 406/1000\n",
            "2/2 [==============================] - 0s 5ms/step - loss: 2.9731e-09 - accuracy: 1.0000\n",
            "Epoch 407/1000\n",
            "2/2 [==============================] - 0s 4ms/step - loss: 2.9719e-09 - accuracy: 1.0000\n",
            "Epoch 408/1000\n",
            "2/2 [==============================] - 0s 6ms/step - loss: 2.9455e-09 - accuracy: 1.0000\n",
            "Epoch 409/1000\n",
            "2/2 [==============================] - 0s 5ms/step - loss: 2.9470e-09 - accuracy: 1.0000\n",
            "Epoch 410/1000\n",
            "2/2 [==============================] - 0s 7ms/step - loss: 2.9501e-09 - accuracy: 1.0000\n",
            "Epoch 411/1000\n",
            "2/2 [==============================] - 0s 14ms/step - loss: 2.9499e-09 - accuracy: 1.0000\n",
            "Epoch 412/1000\n",
            "2/2 [==============================] - 0s 7ms/step - loss: 2.9514e-09 - accuracy: 1.0000\n",
            "Epoch 413/1000\n",
            "2/2 [==============================] - 0s 7ms/step - loss: 2.9530e-09 - accuracy: 1.0000\n",
            "Epoch 414/1000\n",
            "2/2 [==============================] - 0s 6ms/step - loss: 2.9621e-09 - accuracy: 1.0000\n",
            "Epoch 415/1000\n",
            "2/2 [==============================] - 0s 6ms/step - loss: 2.9654e-09 - accuracy: 1.0000\n",
            "Epoch 416/1000\n",
            "2/2 [==============================] - 0s 9ms/step - loss: 2.9413e-09 - accuracy: 1.0000\n",
            "Epoch 417/1000\n",
            "2/2 [==============================] - 0s 6ms/step - loss: 2.9444e-09 - accuracy: 1.0000\n",
            "Epoch 418/1000\n",
            "2/2 [==============================] - 0s 6ms/step - loss: 2.9443e-09 - accuracy: 1.0000\n",
            "Epoch 419/1000\n",
            "2/2 [==============================] - 0s 5ms/step - loss: 2.9458e-09 - accuracy: 1.0000\n",
            "Epoch 420/1000\n",
            "2/2 [==============================] - 0s 5ms/step - loss: 2.9488e-09 - accuracy: 1.0000\n",
            "Epoch 421/1000\n",
            "2/2 [==============================] - 0s 4ms/step - loss: 2.9489e-09 - accuracy: 1.0000\n",
            "Epoch 422/1000\n",
            "2/2 [==============================] - 0s 5ms/step - loss: 2.9504e-09 - accuracy: 1.0000\n",
            "Epoch 423/1000\n",
            "2/2 [==============================] - 0s 7ms/step - loss: 2.9518e-09 - accuracy: 1.0000\n",
            "Epoch 424/1000\n",
            "2/2 [==============================] - 0s 6ms/step - loss: 2.9548e-09 - accuracy: 1.0000\n",
            "Epoch 425/1000\n",
            "2/2 [==============================] - 0s 6ms/step - loss: 2.9306e-09 - accuracy: 1.0000\n",
            "Epoch 426/1000\n",
            "2/2 [==============================] - 0s 4ms/step - loss: 2.9322e-09 - accuracy: 1.0000\n",
            "Epoch 427/1000\n",
            "2/2 [==============================] - 0s 8ms/step - loss: 2.9336e-09 - accuracy: 1.0000\n",
            "Epoch 428/1000\n",
            "2/2 [==============================] - 0s 6ms/step - loss: 2.9393e-09 - accuracy: 1.0000\n",
            "Epoch 429/1000\n",
            "2/2 [==============================] - 0s 5ms/step - loss: 2.9117e-09 - accuracy: 1.0000\n",
            "Epoch 430/1000\n",
            "2/2 [==============================] - 0s 6ms/step - loss: 2.9149e-09 - accuracy: 1.0000\n",
            "Epoch 431/1000\n",
            "2/2 [==============================] - 0s 5ms/step - loss: 2.9147e-09 - accuracy: 1.0000\n",
            "Epoch 432/1000\n",
            "2/2 [==============================] - 0s 7ms/step - loss: 2.9162e-09 - accuracy: 1.0000\n",
            "Epoch 433/1000\n",
            "2/2 [==============================] - 0s 6ms/step - loss: 2.9177e-09 - accuracy: 1.0000\n",
            "Epoch 434/1000\n",
            "2/2 [==============================] - 0s 9ms/step - loss: 2.9192e-09 - accuracy: 1.0000\n",
            "Epoch 435/1000\n",
            "2/2 [==============================] - 0s 6ms/step - loss: 2.9207e-09 - accuracy: 1.0000\n",
            "Epoch 436/1000\n",
            "2/2 [==============================] - 0s 4ms/step - loss: 2.9287e-09 - accuracy: 1.0000\n",
            "Epoch 437/1000\n",
            "2/2 [==============================] - 0s 5ms/step - loss: 2.9302e-09 - accuracy: 1.0000\n",
            "Epoch 438/1000\n",
            "2/2 [==============================] - 0s 5ms/step - loss: 2.9393e-09 - accuracy: 1.0000\n",
            "Epoch 439/1000\n",
            "2/2 [==============================] - 0s 5ms/step - loss: 2.9357e-09 - accuracy: 1.0000\n",
            "Epoch 440/1000\n",
            "2/2 [==============================] - 0s 5ms/step - loss: 2.9081e-09 - accuracy: 1.0000\n",
            "Epoch 441/1000\n",
            "2/2 [==============================] - 0s 5ms/step - loss: 2.9095e-09 - accuracy: 1.0000\n",
            "Epoch 442/1000\n",
            "2/2 [==============================] - 0s 5ms/step - loss: 2.9110e-09 - accuracy: 1.0000\n",
            "Epoch 443/1000\n",
            "2/2 [==============================] - 0s 5ms/step - loss: 2.9125e-09 - accuracy: 1.0000\n",
            "Epoch 444/1000\n",
            "2/2 [==============================] - 0s 5ms/step - loss: 2.9139e-09 - accuracy: 1.0000\n",
            "Epoch 445/1000\n",
            "2/2 [==============================] - 0s 5ms/step - loss: 2.9153e-09 - accuracy: 1.0000\n",
            "Epoch 446/1000\n",
            "2/2 [==============================] - 0s 8ms/step - loss: 2.9167e-09 - accuracy: 1.0000\n",
            "Epoch 447/1000\n",
            "2/2 [==============================] - 0s 9ms/step - loss: 2.9196e-09 - accuracy: 1.0000\n",
            "Epoch 448/1000\n",
            "2/2 [==============================] - 0s 6ms/step - loss: 2.9209e-09 - accuracy: 1.0000\n",
            "Epoch 449/1000\n",
            "2/2 [==============================] - 0s 7ms/step - loss: 2.9223e-09 - accuracy: 1.0000\n",
            "Epoch 450/1000\n",
            "2/2 [==============================] - 0s 5ms/step - loss: 2.8974e-09 - accuracy: 1.0000\n",
            "Epoch 451/1000\n",
            "2/2 [==============================] - 0s 4ms/step - loss: 2.9054e-09 - accuracy: 1.0000\n",
            "Epoch 452/1000\n",
            "2/2 [==============================] - 0s 5ms/step - loss: 2.9081e-09 - accuracy: 1.0000\n",
            "Epoch 453/1000\n",
            "2/2 [==============================] - 0s 5ms/step - loss: 2.9081e-09 - accuracy: 1.0000\n",
            "Epoch 454/1000\n",
            "2/2 [==============================] - 0s 11ms/step - loss: 2.9095e-09 - accuracy: 1.0000\n",
            "Epoch 455/1000\n",
            "2/2 [==============================] - 0s 4ms/step - loss: 2.9096e-09 - accuracy: 1.0000\n",
            "Epoch 456/1000\n",
            "2/2 [==============================] - 0s 4ms/step - loss: 2.8807e-09 - accuracy: 1.0000\n",
            "Epoch 457/1000\n",
            "2/2 [==============================] - 0s 5ms/step - loss: 2.8820e-09 - accuracy: 1.0000\n",
            "Epoch 458/1000\n",
            "2/2 [==============================] - 0s 9ms/step - loss: 2.8849e-09 - accuracy: 1.0000\n",
            "Epoch 459/1000\n",
            "2/2 [==============================] - 0s 8ms/step - loss: 2.8863e-09 - accuracy: 1.0000\n",
            "Epoch 460/1000\n",
            "2/2 [==============================] - 0s 7ms/step - loss: 2.8863e-09 - accuracy: 1.0000\n",
            "Epoch 461/1000\n",
            "2/2 [==============================] - 0s 6ms/step - loss: 2.8876e-09 - accuracy: 1.0000\n",
            "Epoch 462/1000\n",
            "2/2 [==============================] - 0s 4ms/step - loss: 2.8954e-09 - accuracy: 1.0000\n",
            "Epoch 463/1000\n",
            "2/2 [==============================] - 0s 5ms/step - loss: 2.8967e-09 - accuracy: 1.0000\n",
            "Epoch 464/1000\n",
            "2/2 [==============================] - 0s 7ms/step - loss: 2.8981e-09 - accuracy: 1.0000\n",
            "Epoch 465/1000\n",
            "2/2 [==============================] - 0s 6ms/step - loss: 2.8994e-09 - accuracy: 1.0000\n",
            "Epoch 466/1000\n",
            "2/2 [==============================] - 0s 7ms/step - loss: 2.8985e-09 - accuracy: 1.0000\n",
            "Epoch 467/1000\n",
            "2/2 [==============================] - 0s 6ms/step - loss: 2.8717e-09 - accuracy: 1.0000\n",
            "Epoch 468/1000\n",
            "2/2 [==============================] - 0s 6ms/step - loss: 2.8718e-09 - accuracy: 1.0000\n",
            "Epoch 469/1000\n",
            "2/2 [==============================] - 0s 5ms/step - loss: 2.8731e-09 - accuracy: 1.0000\n",
            "Epoch 470/1000\n",
            "2/2 [==============================] - 0s 5ms/step - loss: 2.8745e-09 - accuracy: 1.0000\n",
            "Epoch 471/1000\n",
            "2/2 [==============================] - 0s 5ms/step - loss: 2.8759e-09 - accuracy: 1.0000\n",
            "Epoch 472/1000\n",
            "2/2 [==============================] - 0s 5ms/step - loss: 2.8773e-09 - accuracy: 1.0000\n",
            "Epoch 473/1000\n",
            "2/2 [==============================] - 0s 5ms/step - loss: 2.8786e-09 - accuracy: 1.0000\n",
            "Epoch 474/1000\n",
            "2/2 [==============================] - 0s 5ms/step - loss: 2.8800e-09 - accuracy: 1.0000\n",
            "Epoch 475/1000\n",
            "2/2 [==============================] - 0s 5ms/step - loss: 2.8814e-09 - accuracy: 1.0000\n",
            "Epoch 476/1000\n",
            "2/2 [==============================] - 0s 11ms/step - loss: 2.8826e-09 - accuracy: 1.0000\n",
            "Epoch 477/1000\n",
            "2/2 [==============================] - 0s 7ms/step - loss: 2.8840e-09 - accuracy: 1.0000\n",
            "Epoch 478/1000\n",
            "2/2 [==============================] - 0s 11ms/step - loss: 2.8853e-09 - accuracy: 1.0000\n",
            "Epoch 479/1000\n",
            "2/2 [==============================] - 0s 4ms/step - loss: 2.8866e-09 - accuracy: 1.0000\n",
            "Epoch 480/1000\n",
            "2/2 [==============================] - 0s 8ms/step - loss: 2.8879e-09 - accuracy: 1.0000\n",
            "Epoch 481/1000\n",
            "2/2 [==============================] - 0s 7ms/step - loss: 2.8892e-09 - accuracy: 1.0000\n",
            "Epoch 482/1000\n",
            "2/2 [==============================] - 0s 5ms/step - loss: 2.8875e-09 - accuracy: 1.0000\n",
            "Epoch 483/1000\n",
            "2/2 [==============================] - 0s 5ms/step - loss: 2.8600e-09 - accuracy: 1.0000\n",
            "Epoch 484/1000\n",
            "2/2 [==============================] - 0s 7ms/step - loss: 2.8672e-09 - accuracy: 1.0000\n",
            "Epoch 485/1000\n",
            "2/2 [==============================] - 0s 6ms/step - loss: 2.8746e-09 - accuracy: 1.0000\n",
            "Epoch 486/1000\n",
            "2/2 [==============================] - 0s 6ms/step - loss: 2.8758e-09 - accuracy: 1.0000\n",
            "Epoch 487/1000\n",
            "2/2 [==============================] - 0s 4ms/step - loss: 2.8772e-09 - accuracy: 1.0000\n",
            "Epoch 488/1000\n",
            "2/2 [==============================] - 0s 6ms/step - loss: 2.8784e-09 - accuracy: 1.0000\n",
            "Epoch 489/1000\n",
            "2/2 [==============================] - 0s 6ms/step - loss: 2.8830e-09 - accuracy: 1.0000\n",
            "Epoch 490/1000\n",
            "2/2 [==============================] - 0s 6ms/step - loss: 2.8538e-09 - accuracy: 1.0000\n",
            "Epoch 491/1000\n",
            "2/2 [==============================] - 0s 6ms/step - loss: 2.8621e-09 - accuracy: 1.0000\n",
            "Epoch 492/1000\n",
            "2/2 [==============================] - 0s 7ms/step - loss: 2.8621e-09 - accuracy: 1.0000\n",
            "Epoch 493/1000\n",
            "2/2 [==============================] - 0s 6ms/step - loss: 2.8633e-09 - accuracy: 1.0000\n",
            "Epoch 494/1000\n",
            "2/2 [==============================] - 0s 8ms/step - loss: 2.8658e-09 - accuracy: 1.0000\n",
            "Epoch 495/1000\n",
            "2/2 [==============================] - 0s 7ms/step - loss: 2.8659e-09 - accuracy: 1.0000\n",
            "Epoch 496/1000\n",
            "2/2 [==============================] - 0s 7ms/step - loss: 2.8672e-09 - accuracy: 1.0000\n",
            "Epoch 497/1000\n",
            "2/2 [==============================] - 0s 4ms/step - loss: 2.8684e-09 - accuracy: 1.0000\n",
            "Epoch 498/1000\n",
            "2/2 [==============================] - 0s 5ms/step - loss: 2.8697e-09 - accuracy: 1.0000\n",
            "Epoch 499/1000\n",
            "2/2 [==============================] - 0s 5ms/step - loss: 2.8715e-09 - accuracy: 1.0000\n",
            "Epoch 500/1000\n",
            "2/2 [==============================] - 0s 5ms/step - loss: 2.8458e-09 - accuracy: 1.0000\n",
            "Epoch 501/1000\n",
            "2/2 [==============================] - 0s 6ms/step - loss: 2.8471e-09 - accuracy: 1.0000\n",
            "Epoch 502/1000\n",
            "2/2 [==============================] - 0s 7ms/step - loss: 2.8484e-09 - accuracy: 1.0000\n",
            "Epoch 503/1000\n",
            "2/2 [==============================] - 0s 5ms/step - loss: 2.8497e-09 - accuracy: 1.0000\n",
            "Epoch 504/1000\n",
            "2/2 [==============================] - 0s 6ms/step - loss: 2.8563e-09 - accuracy: 1.0000\n",
            "Epoch 505/1000\n",
            "2/2 [==============================] - 0s 6ms/step - loss: 2.8575e-09 - accuracy: 1.0000\n",
            "Epoch 506/1000\n",
            "2/2 [==============================] - 0s 3ms/step - loss: 2.8610e-09 - accuracy: 1.0000\n",
            "Epoch 507/1000\n",
            "2/2 [==============================] - 0s 5ms/step - loss: 2.8325e-09 - accuracy: 1.0000\n",
            "Epoch 508/1000\n",
            "2/2 [==============================] - 0s 8ms/step - loss: 2.8338e-09 - accuracy: 1.0000\n",
            "Epoch 509/1000\n",
            "2/2 [==============================] - 0s 7ms/step - loss: 2.8351e-09 - accuracy: 1.0000\n",
            "Epoch 510/1000\n",
            "2/2 [==============================] - 0s 9ms/step - loss: 2.8363e-09 - accuracy: 1.0000\n",
            "Epoch 511/1000\n",
            "2/2 [==============================] - 0s 7ms/step - loss: 2.8388e-09 - accuracy: 1.0000\n",
            "Epoch 512/1000\n",
            "2/2 [==============================] - 0s 5ms/step - loss: 2.8388e-09 - accuracy: 1.0000\n",
            "Epoch 513/1000\n",
            "2/2 [==============================] - 0s 11ms/step - loss: 2.8401e-09 - accuracy: 1.0000\n",
            "Epoch 514/1000\n",
            "2/2 [==============================] - 0s 6ms/step - loss: 2.8414e-09 - accuracy: 1.0000\n",
            "Epoch 515/1000\n",
            "2/2 [==============================] - 0s 7ms/step - loss: 2.8426e-09 - accuracy: 1.0000\n",
            "Epoch 516/1000\n",
            "2/2 [==============================] - 0s 6ms/step - loss: 2.8438e-09 - accuracy: 1.0000\n",
            "Epoch 517/1000\n",
            "2/2 [==============================] - 0s 5ms/step - loss: 2.8450e-09 - accuracy: 1.0000\n",
            "Epoch 518/1000\n",
            "2/2 [==============================] - 0s 6ms/step - loss: 2.8473e-09 - accuracy: 1.0000\n",
            "Epoch 519/1000\n",
            "2/2 [==============================] - 0s 6ms/step - loss: 2.8474e-09 - accuracy: 1.0000\n",
            "Epoch 520/1000\n",
            "2/2 [==============================] - 0s 5ms/step - loss: 2.8486e-09 - accuracy: 1.0000\n",
            "Epoch 521/1000\n",
            "2/2 [==============================] - 0s 8ms/step - loss: 2.8538e-09 - accuracy: 1.0000\n",
            "Epoch 522/1000\n",
            "2/2 [==============================] - 0s 8ms/step - loss: 2.8242e-09 - accuracy: 1.0000\n",
            "Epoch 523/1000\n",
            "2/2 [==============================] - 0s 5ms/step - loss: 2.8243e-09 - accuracy: 1.0000\n",
            "Epoch 524/1000\n",
            "2/2 [==============================] - 0s 8ms/step - loss: 2.8256e-09 - accuracy: 1.0000\n",
            "Epoch 525/1000\n",
            "2/2 [==============================] - 0s 6ms/step - loss: 2.8267e-09 - accuracy: 1.0000\n",
            "Epoch 526/1000\n",
            "2/2 [==============================] - 0s 5ms/step - loss: 2.8333e-09 - accuracy: 1.0000\n",
            "Epoch 527/1000\n",
            "2/2 [==============================] - 0s 5ms/step - loss: 2.8345e-09 - accuracy: 1.0000\n",
            "Epoch 528/1000\n",
            "2/2 [==============================] - 0s 5ms/step - loss: 2.8357e-09 - accuracy: 1.0000\n",
            "Epoch 529/1000\n",
            "2/2 [==============================] - 0s 5ms/step - loss: 2.8369e-09 - accuracy: 1.0000\n",
            "Epoch 530/1000\n",
            "2/2 [==============================] - 0s 5ms/step - loss: 2.8380e-09 - accuracy: 1.0000\n",
            "Epoch 531/1000\n",
            "2/2 [==============================] - 0s 8ms/step - loss: 2.8419e-09 - accuracy: 1.0000\n",
            "Epoch 532/1000\n",
            "2/2 [==============================] - 0s 5ms/step - loss: 2.8124e-09 - accuracy: 1.0000\n",
            "Epoch 533/1000\n",
            "2/2 [==============================] - 0s 5ms/step - loss: 2.8147e-09 - accuracy: 1.0000\n",
            "Epoch 534/1000\n",
            "2/2 [==============================] - 0s 5ms/step - loss: 2.8148e-09 - accuracy: 1.0000\n",
            "Epoch 535/1000\n",
            "2/2 [==============================] - 0s 5ms/step - loss: 2.8160e-09 - accuracy: 1.0000\n",
            "Epoch 536/1000\n",
            "2/2 [==============================] - 0s 6ms/step - loss: 2.8172e-09 - accuracy: 1.0000\n",
            "Epoch 537/1000\n",
            "2/2 [==============================] - 0s 6ms/step - loss: 2.8196e-09 - accuracy: 1.0000\n",
            "Epoch 538/1000\n",
            "2/2 [==============================] - 0s 6ms/step - loss: 2.8197e-09 - accuracy: 1.0000\n",
            "Epoch 539/1000\n",
            "2/2 [==============================] - 0s 7ms/step - loss: 2.8209e-09 - accuracy: 1.0000\n",
            "Epoch 540/1000\n",
            "2/2 [==============================] - 0s 7ms/step - loss: 2.8220e-09 - accuracy: 1.0000\n",
            "Epoch 541/1000\n",
            "2/2 [==============================] - 0s 6ms/step - loss: 2.8282e-09 - accuracy: 1.0000\n",
            "Epoch 542/1000\n",
            "2/2 [==============================] - 0s 8ms/step - loss: 2.8294e-09 - accuracy: 1.0000\n",
            "Epoch 543/1000\n",
            "2/2 [==============================] - 0s 8ms/step - loss: 2.8364e-09 - accuracy: 1.0000\n",
            "Epoch 544/1000\n",
            "2/2 [==============================] - 0s 6ms/step - loss: 2.8345e-09 - accuracy: 1.0000\n",
            "Epoch 545/1000\n",
            "2/2 [==============================] - 0s 4ms/step - loss: 2.8042e-09 - accuracy: 1.0000\n",
            "Epoch 546/1000\n",
            "2/2 [==============================] - 0s 5ms/step - loss: 2.8054e-09 - accuracy: 1.0000\n",
            "Epoch 547/1000\n",
            "2/2 [==============================] - 0s 6ms/step - loss: 2.8066e-09 - accuracy: 1.0000\n",
            "Epoch 548/1000\n",
            "2/2 [==============================] - 0s 6ms/step - loss: 2.8077e-09 - accuracy: 1.0000\n",
            "Epoch 549/1000\n",
            "2/2 [==============================] - 0s 5ms/step - loss: 2.8089e-09 - accuracy: 1.0000\n",
            "Epoch 550/1000\n",
            "2/2 [==============================] - 0s 6ms/step - loss: 2.8101e-09 - accuracy: 1.0000\n",
            "Epoch 551/1000\n",
            "2/2 [==============================] - 0s 11ms/step - loss: 2.8125e-09 - accuracy: 1.0000\n",
            "Epoch 552/1000\n",
            "2/2 [==============================] - 0s 6ms/step - loss: 2.8126e-09 - accuracy: 1.0000\n",
            "Epoch 553/1000\n",
            "2/2 [==============================] - 0s 8ms/step - loss: 2.8137e-09 - accuracy: 1.0000\n",
            "Epoch 554/1000\n",
            "2/2 [==============================] - 0s 7ms/step - loss: 2.8148e-09 - accuracy: 1.0000\n",
            "Epoch 555/1000\n",
            "2/2 [==============================] - 0s 6ms/step - loss: 2.8160e-09 - accuracy: 1.0000\n",
            "Epoch 556/1000\n",
            "2/2 [==============================] - 0s 6ms/step - loss: 2.8171e-09 - accuracy: 1.0000\n",
            "Epoch 557/1000\n",
            "2/2 [==============================] - 0s 6ms/step - loss: 2.8192e-09 - accuracy: 1.0000\n",
            "Epoch 558/1000\n",
            "2/2 [==============================] - 0s 6ms/step - loss: 2.8193e-09 - accuracy: 1.0000\n",
            "Epoch 559/1000\n",
            "2/2 [==============================] - 0s 8ms/step - loss: 2.8204e-09 - accuracy: 1.0000\n",
            "Epoch 560/1000\n",
            "2/2 [==============================] - 0s 5ms/step - loss: 2.8215e-09 - accuracy: 1.0000\n",
            "Epoch 561/1000\n",
            "2/2 [==============================] - 0s 5ms/step - loss: 2.8248e-09 - accuracy: 1.0000\n",
            "Epoch 562/1000\n",
            "2/2 [==============================] - 0s 5ms/step - loss: 2.7950e-09 - accuracy: 1.0000\n",
            "Epoch 563/1000\n",
            "2/2 [==============================] - 0s 7ms/step - loss: 2.7961e-09 - accuracy: 1.0000\n",
            "Epoch 564/1000\n",
            "2/2 [==============================] - 0s 7ms/step - loss: 2.7972e-09 - accuracy: 1.0000\n",
            "Epoch 565/1000\n",
            "2/2 [==============================] - 0s 5ms/step - loss: 2.7995e-09 - accuracy: 1.0000\n",
            "Epoch 566/1000\n",
            "2/2 [==============================] - 0s 5ms/step - loss: 2.7996e-09 - accuracy: 1.0000\n",
            "Epoch 567/1000\n",
            "2/2 [==============================] - 0s 5ms/step - loss: 2.8007e-09 - accuracy: 1.0000\n",
            "Epoch 568/1000\n",
            "2/2 [==============================] - 0s 5ms/step - loss: 2.8030e-09 - accuracy: 1.0000\n",
            "Epoch 569/1000\n",
            "2/2 [==============================] - 0s 5ms/step - loss: 2.8031e-09 - accuracy: 1.0000\n",
            "Epoch 570/1000\n",
            "2/2 [==============================] - 0s 5ms/step - loss: 2.8042e-09 - accuracy: 1.0000\n",
            "Epoch 571/1000\n",
            "2/2 [==============================] - 0s 11ms/step - loss: 2.8054e-09 - accuracy: 1.0000\n",
            "Epoch 572/1000\n",
            "2/2 [==============================] - 0s 5ms/step - loss: 2.8064e-09 - accuracy: 1.0000\n",
            "Epoch 573/1000\n",
            "2/2 [==============================] - 0s 5ms/step - loss: 2.8076e-09 - accuracy: 1.0000\n",
            "Epoch 574/1000\n",
            "2/2 [==============================] - 0s 5ms/step - loss: 2.8109e-09 - accuracy: 1.0000\n",
            "Epoch 575/1000\n",
            "2/2 [==============================] - 0s 5ms/step - loss: 2.7815e-09 - accuracy: 1.0000\n",
            "Epoch 576/1000\n",
            "2/2 [==============================] - 0s 10ms/step - loss: 2.7826e-09 - accuracy: 1.0000\n",
            "Epoch 577/1000\n",
            "2/2 [==============================] - 0s 5ms/step - loss: 2.7884e-09 - accuracy: 1.0000\n",
            "Epoch 578/1000\n",
            "2/2 [==============================] - 0s 7ms/step - loss: 2.7895e-09 - accuracy: 1.0000\n",
            "Epoch 579/1000\n",
            "2/2 [==============================] - 0s 7ms/step - loss: 2.7906e-09 - accuracy: 1.0000\n",
            "Epoch 580/1000\n",
            "2/2 [==============================] - 0s 5ms/step - loss: 2.7966e-09 - accuracy: 1.0000\n",
            "Epoch 581/1000\n",
            "2/2 [==============================] - 0s 7ms/step - loss: 2.7986e-09 - accuracy: 1.0000\n",
            "Epoch 582/1000\n",
            "2/2 [==============================] - 0s 9ms/step - loss: 2.7996e-09 - accuracy: 1.0000\n",
            "Epoch 583/1000\n",
            "2/2 [==============================] - 0s 7ms/step - loss: 2.7997e-09 - accuracy: 1.0000\n",
            "Epoch 584/1000\n",
            "2/2 [==============================] - 0s 11ms/step - loss: 2.8008e-09 - accuracy: 1.0000\n",
            "Epoch 585/1000\n",
            "2/2 [==============================] - 0s 9ms/step - loss: 2.8019e-09 - accuracy: 1.0000\n",
            "Epoch 586/1000\n",
            "2/2 [==============================] - 0s 8ms/step - loss: 2.8039e-09 - accuracy: 1.0000\n",
            "Epoch 587/1000\n",
            "2/2 [==============================] - 0s 6ms/step - loss: 2.8010e-09 - accuracy: 1.0000\n",
            "Epoch 588/1000\n",
            "2/2 [==============================] - 0s 7ms/step - loss: 2.7722e-09 - accuracy: 1.0000\n",
            "Epoch 589/1000\n",
            "2/2 [==============================] - 0s 10ms/step - loss: 2.7733e-09 - accuracy: 1.0000\n",
            "Epoch 590/1000\n",
            "2/2 [==============================] - 0s 7ms/step - loss: 2.7754e-09 - accuracy: 1.0000\n",
            "Epoch 591/1000\n",
            "2/2 [==============================] - 0s 9ms/step - loss: 2.7755e-09 - accuracy: 1.0000\n",
            "Epoch 592/1000\n",
            "2/2 [==============================] - 0s 6ms/step - loss: 2.7765e-09 - accuracy: 1.0000\n",
            "Epoch 593/1000\n",
            "2/2 [==============================] - 0s 6ms/step - loss: 2.7822e-09 - accuracy: 1.0000\n",
            "Epoch 594/1000\n",
            "2/2 [==============================] - 0s 6ms/step - loss: 2.7833e-09 - accuracy: 1.0000\n",
            "Epoch 595/1000\n",
            "2/2 [==============================] - 0s 8ms/step - loss: 2.7854e-09 - accuracy: 1.0000\n",
            "Epoch 596/1000\n",
            "2/2 [==============================] - 0s 7ms/step - loss: 2.7865e-09 - accuracy: 1.0000\n",
            "Epoch 597/1000\n",
            "2/2 [==============================] - 0s 5ms/step - loss: 2.7866e-09 - accuracy: 1.0000\n",
            "Epoch 598/1000\n",
            "2/2 [==============================] - 0s 4ms/step - loss: 2.7876e-09 - accuracy: 1.0000\n",
            "Epoch 599/1000\n",
            "2/2 [==============================] - 0s 9ms/step - loss: 2.7887e-09 - accuracy: 1.0000\n",
            "Epoch 600/1000\n",
            "2/2 [==============================] - 0s 5ms/step - loss: 2.7898e-09 - accuracy: 1.0000\n",
            "Epoch 601/1000\n",
            "2/2 [==============================] - 0s 8ms/step - loss: 2.7917e-09 - accuracy: 1.0000\n",
            "Epoch 602/1000\n",
            "2/2 [==============================] - 0s 7ms/step - loss: 2.7918e-09 - accuracy: 1.0000\n",
            "Epoch 603/1000\n",
            "2/2 [==============================] - 0s 8ms/step - loss: 2.7928e-09 - accuracy: 1.0000\n",
            "Epoch 604/1000\n",
            "2/2 [==============================] - 0s 8ms/step - loss: 2.7965e-09 - accuracy: 1.0000\n",
            "Epoch 605/1000\n",
            "2/2 [==============================] - 0s 6ms/step - loss: 2.7657e-09 - accuracy: 1.0000\n",
            "Epoch 606/1000\n",
            "2/2 [==============================] - 0s 6ms/step - loss: 2.7668e-09 - accuracy: 1.0000\n",
            "Epoch 607/1000\n",
            "2/2 [==============================] - 0s 6ms/step - loss: 2.7678e-09 - accuracy: 1.0000\n",
            "Epoch 608/1000\n",
            "2/2 [==============================] - 0s 6ms/step - loss: 2.7689e-09 - accuracy: 1.0000\n",
            "Epoch 609/1000\n",
            "2/2 [==============================] - 0s 6ms/step - loss: 2.7700e-09 - accuracy: 1.0000\n",
            "Epoch 610/1000\n",
            "2/2 [==============================] - 0s 4ms/step - loss: 2.7721e-09 - accuracy: 1.0000\n",
            "Epoch 611/1000\n",
            "2/2 [==============================] - 0s 4ms/step - loss: 2.7721e-09 - accuracy: 1.0000\n",
            "Epoch 612/1000\n",
            "2/2 [==============================] - 0s 4ms/step - loss: 2.7777e-09 - accuracy: 1.0000\n",
            "Epoch 613/1000\n",
            "2/2 [==============================] - 0s 5ms/step - loss: 2.7796e-09 - accuracy: 1.0000\n",
            "Epoch 614/1000\n",
            "2/2 [==============================] - 0s 6ms/step - loss: 2.7807e-09 - accuracy: 1.0000\n",
            "Epoch 615/1000\n",
            "2/2 [==============================] - 0s 5ms/step - loss: 2.7808e-09 - accuracy: 1.0000\n",
            "Epoch 616/1000\n",
            "2/2 [==============================] - 0s 6ms/step - loss: 2.7818e-09 - accuracy: 1.0000\n",
            "Epoch 617/1000\n",
            "2/2 [==============================] - 0s 5ms/step - loss: 2.7828e-09 - accuracy: 1.0000\n",
            "Epoch 618/1000\n",
            "2/2 [==============================] - 0s 6ms/step - loss: 2.7888e-09 - accuracy: 1.0000\n",
            "Epoch 619/1000\n",
            "2/2 [==============================] - 0s 4ms/step - loss: 2.7601e-09 - accuracy: 1.0000\n",
            "Epoch 620/1000\n",
            "2/2 [==============================] - 0s 5ms/step - loss: 2.7612e-09 - accuracy: 1.0000\n",
            "Epoch 621/1000\n",
            "2/2 [==============================] - 0s 5ms/step - loss: 2.7622e-09 - accuracy: 1.0000\n",
            "Epoch 622/1000\n",
            "2/2 [==============================] - 0s 5ms/step - loss: 2.7633e-09 - accuracy: 1.0000\n",
            "Epoch 623/1000\n",
            "2/2 [==============================] - 0s 9ms/step - loss: 2.7653e-09 - accuracy: 1.0000\n",
            "Epoch 624/1000\n",
            "2/2 [==============================] - 0s 6ms/step - loss: 2.7663e-09 - accuracy: 1.0000\n",
            "Epoch 625/1000\n",
            "2/2 [==============================] - 0s 5ms/step - loss: 2.7674e-09 - accuracy: 1.0000\n",
            "Epoch 626/1000\n",
            "2/2 [==============================] - 0s 4ms/step - loss: 2.7675e-09 - accuracy: 1.0000\n",
            "Epoch 627/1000\n",
            "2/2 [==============================] - 0s 5ms/step - loss: 2.7685e-09 - accuracy: 1.0000\n",
            "Epoch 628/1000\n",
            "2/2 [==============================] - 0s 10ms/step - loss: 2.7695e-09 - accuracy: 1.0000\n",
            "Epoch 629/1000\n",
            "2/2 [==============================] - 0s 7ms/step - loss: 2.7705e-09 - accuracy: 1.0000\n",
            "Epoch 630/1000\n",
            "2/2 [==============================] - 0s 8ms/step - loss: 2.7715e-09 - accuracy: 1.0000\n",
            "Epoch 631/1000\n",
            "2/2 [==============================] - 0s 6ms/step - loss: 2.7725e-09 - accuracy: 1.0000\n",
            "Epoch 632/1000\n",
            "2/2 [==============================] - 0s 5ms/step - loss: 2.7735e-09 - accuracy: 1.0000\n",
            "Epoch 633/1000\n",
            "2/2 [==============================] - 0s 7ms/step - loss: 2.7745e-09 - accuracy: 1.0000\n",
            "Epoch 634/1000\n",
            "2/2 [==============================] - 0s 9ms/step - loss: 2.7754e-09 - accuracy: 1.0000\n",
            "Epoch 635/1000\n",
            "2/2 [==============================] - 0s 5ms/step - loss: 2.7790e-09 - accuracy: 1.0000\n",
            "Epoch 636/1000\n",
            "2/2 [==============================] - 0s 7ms/step - loss: 2.7477e-09 - accuracy: 1.0000\n",
            "Epoch 637/1000\n",
            "2/2 [==============================] - 0s 6ms/step - loss: 2.7487e-09 - accuracy: 1.0000\n",
            "Epoch 638/1000\n",
            "2/2 [==============================] - 0s 6ms/step - loss: 2.7498e-09 - accuracy: 1.0000\n",
            "Epoch 639/1000\n",
            "2/2 [==============================] - 0s 6ms/step - loss: 2.7550e-09 - accuracy: 1.0000\n",
            "Epoch 640/1000\n",
            "2/2 [==============================] - 0s 7ms/step - loss: 2.7560e-09 - accuracy: 1.0000\n",
            "Epoch 641/1000\n",
            "2/2 [==============================] - 0s 6ms/step - loss: 2.7580e-09 - accuracy: 1.0000\n",
            "Epoch 642/1000\n",
            "2/2 [==============================] - 0s 8ms/step - loss: 2.7581e-09 - accuracy: 1.0000\n",
            "Epoch 643/1000\n",
            "2/2 [==============================] - 0s 7ms/step - loss: 2.7599e-09 - accuracy: 1.0000\n",
            "Epoch 644/1000\n",
            "2/2 [==============================] - 0s 7ms/step - loss: 2.7601e-09 - accuracy: 1.0000\n",
            "Epoch 645/1000\n",
            "2/2 [==============================] - 0s 6ms/step - loss: 2.7651e-09 - accuracy: 1.0000\n",
            "Epoch 646/1000\n",
            "2/2 [==============================] - 0s 8ms/step - loss: 2.7707e-09 - accuracy: 1.0000\n",
            "Epoch 647/1000\n",
            "2/2 [==============================] - 0s 6ms/step - loss: 2.7683e-09 - accuracy: 1.0000\n",
            "Epoch 648/1000\n",
            "2/2 [==============================] - 0s 6ms/step - loss: 2.7382e-09 - accuracy: 1.0000\n",
            "Epoch 649/1000\n",
            "2/2 [==============================] - 0s 6ms/step - loss: 2.7391e-09 - accuracy: 1.0000\n",
            "Epoch 650/1000\n",
            "2/2 [==============================] - 0s 6ms/step - loss: 2.7410e-09 - accuracy: 1.0000\n",
            "Epoch 651/1000\n",
            "2/2 [==============================] - 0s 6ms/step - loss: 2.7411e-09 - accuracy: 1.0000\n",
            "Epoch 652/1000\n",
            "2/2 [==============================] - 0s 6ms/step - loss: 2.7422e-09 - accuracy: 1.0000\n",
            "Epoch 653/1000\n",
            "2/2 [==============================] - 0s 5ms/step - loss: 2.7432e-09 - accuracy: 1.0000\n",
            "Epoch 654/1000\n",
            "2/2 [==============================] - 0s 6ms/step - loss: 2.7441e-09 - accuracy: 1.0000\n",
            "Epoch 655/1000\n",
            "2/2 [==============================] - 0s 9ms/step - loss: 2.7451e-09 - accuracy: 1.0000\n",
            "Epoch 656/1000\n",
            "2/2 [==============================] - 0s 9ms/step - loss: 2.7461e-09 - accuracy: 1.0000\n",
            "Epoch 657/1000\n",
            "2/2 [==============================] - 0s 6ms/step - loss: 2.7512e-09 - accuracy: 1.0000\n",
            "Epoch 658/1000\n",
            "2/2 [==============================] - 0s 5ms/step - loss: 2.7522e-09 - accuracy: 1.0000\n",
            "Epoch 659/1000\n",
            "2/2 [==============================] - 0s 5ms/step - loss: 2.7531e-09 - accuracy: 1.0000\n",
            "Epoch 660/1000\n",
            "2/2 [==============================] - 0s 8ms/step - loss: 2.7579e-09 - accuracy: 1.0000\n",
            "Epoch 661/1000\n",
            "2/2 [==============================] - 0s 5ms/step - loss: 2.7596e-09 - accuracy: 1.0000\n",
            "Epoch 662/1000\n",
            "2/2 [==============================] - 0s 5ms/step - loss: 2.7585e-09 - accuracy: 1.0000\n",
            "Epoch 663/1000\n",
            "2/2 [==============================] - 0s 5ms/step - loss: 2.7273e-09 - accuracy: 1.0000\n",
            "Epoch 664/1000\n",
            "2/2 [==============================] - 0s 6ms/step - loss: 2.7283e-09 - accuracy: 1.0000\n",
            "Epoch 665/1000\n",
            "2/2 [==============================] - 0s 6ms/step - loss: 2.7293e-09 - accuracy: 1.0000\n",
            "Epoch 666/1000\n",
            "2/2 [==============================] - 0s 7ms/step - loss: 2.7302e-09 - accuracy: 1.0000\n",
            "Epoch 667/1000\n",
            "2/2 [==============================] - 0s 5ms/step - loss: 2.7312e-09 - accuracy: 1.0000\n",
            "Epoch 668/1000\n",
            "2/2 [==============================] - 0s 6ms/step - loss: 2.7322e-09 - accuracy: 1.0000\n",
            "Epoch 669/1000\n",
            "2/2 [==============================] - 0s 5ms/step - loss: 2.7331e-09 - accuracy: 1.0000\n",
            "Epoch 670/1000\n",
            "2/2 [==============================] - 0s 5ms/step - loss: 2.7341e-09 - accuracy: 1.0000\n",
            "Epoch 671/1000\n",
            "2/2 [==============================] - 0s 5ms/step - loss: 2.7390e-09 - accuracy: 1.0000\n",
            "Epoch 672/1000\n",
            "2/2 [==============================] - 0s 6ms/step - loss: 2.7409e-09 - accuracy: 1.0000\n",
            "Epoch 673/1000\n",
            "2/2 [==============================] - 0s 10ms/step - loss: 2.7410e-09 - accuracy: 1.0000\n",
            "Epoch 674/1000\n",
            "2/2 [==============================] - 0s 6ms/step - loss: 2.7419e-09 - accuracy: 1.0000\n",
            "Epoch 675/1000\n",
            "2/2 [==============================] - 0s 7ms/step - loss: 2.7428e-09 - accuracy: 1.0000\n",
            "Epoch 676/1000\n",
            "2/2 [==============================] - 0s 6ms/step - loss: 2.7437e-09 - accuracy: 1.0000\n",
            "Epoch 677/1000\n",
            "2/2 [==============================] - 0s 5ms/step - loss: 2.7483e-09 - accuracy: 1.0000\n",
            "Epoch 678/1000\n",
            "2/2 [==============================] - 0s 5ms/step - loss: 2.7517e-09 - accuracy: 1.0000\n",
            "Epoch 679/1000\n",
            "2/2 [==============================] - 0s 5ms/step - loss: 2.7201e-09 - accuracy: 1.0000\n",
            "Epoch 680/1000\n",
            "2/2 [==============================] - 0s 6ms/step - loss: 2.7210e-09 - accuracy: 1.0000\n",
            "Epoch 681/1000\n",
            "2/2 [==============================] - 0s 5ms/step - loss: 2.7220e-09 - accuracy: 1.0000\n",
            "Epoch 682/1000\n",
            "2/2 [==============================] - 0s 10ms/step - loss: 2.7229e-09 - accuracy: 1.0000\n",
            "Epoch 683/1000\n",
            "2/2 [==============================] - 0s 7ms/step - loss: 2.7238e-09 - accuracy: 1.0000\n",
            "Epoch 684/1000\n",
            "2/2 [==============================] - 0s 6ms/step - loss: 2.7248e-09 - accuracy: 1.0000\n",
            "Epoch 685/1000\n",
            "2/2 [==============================] - 0s 6ms/step - loss: 2.7296e-09 - accuracy: 1.0000\n",
            "Epoch 686/1000\n",
            "2/2 [==============================] - 0s 6ms/step - loss: 2.7305e-09 - accuracy: 1.0000\n",
            "Epoch 687/1000\n",
            "2/2 [==============================] - 0s 6ms/step - loss: 2.7315e-09 - accuracy: 1.0000\n",
            "Epoch 688/1000\n",
            "2/2 [==============================] - 0s 9ms/step - loss: 2.7324e-09 - accuracy: 1.0000\n",
            "Epoch 689/1000\n",
            "2/2 [==============================] - 0s 5ms/step - loss: 2.7333e-09 - accuracy: 1.0000\n",
            "Epoch 690/1000\n",
            "2/2 [==============================] - 0s 5ms/step - loss: 2.7379e-09 - accuracy: 1.0000\n",
            "Epoch 691/1000\n",
            "2/2 [==============================] - 0s 6ms/step - loss: 2.7424e-09 - accuracy: 1.0000\n",
            "Epoch 692/1000\n",
            "2/2 [==============================] - 0s 7ms/step - loss: 2.7137e-09 - accuracy: 1.0000\n",
            "Epoch 693/1000\n",
            "2/2 [==============================] - 0s 15ms/step - loss: 2.7146e-09 - accuracy: 1.0000\n",
            "Epoch 694/1000\n",
            "2/2 [==============================] - 0s 8ms/step - loss: 2.7193e-09 - accuracy: 1.0000\n",
            "Epoch 695/1000\n",
            "2/2 [==============================] - 0s 6ms/step - loss: 2.7202e-09 - accuracy: 1.0000\n",
            "Epoch 696/1000\n",
            "2/2 [==============================] - 0s 6ms/step - loss: 2.7211e-09 - accuracy: 1.0000\n",
            "Epoch 697/1000\n",
            "2/2 [==============================] - 0s 5ms/step - loss: 2.7220e-09 - accuracy: 1.0000\n",
            "Epoch 698/1000\n",
            "2/2 [==============================] - 0s 5ms/step - loss: 2.7230e-09 - accuracy: 1.0000\n",
            "Epoch 699/1000\n",
            "2/2 [==============================] - 0s 4ms/step - loss: 2.7239e-09 - accuracy: 1.0000\n",
            "Epoch 700/1000\n",
            "2/2 [==============================] - 0s 7ms/step - loss: 2.7248e-09 - accuracy: 1.0000\n",
            "Epoch 701/1000\n",
            "2/2 [==============================] - 0s 7ms/step - loss: 2.7256e-09 - accuracy: 1.0000\n",
            "Epoch 702/1000\n",
            "2/2 [==============================] - 0s 5ms/step - loss: 2.7265e-09 - accuracy: 1.0000\n",
            "Epoch 703/1000\n",
            "2/2 [==============================] - 0s 6ms/step - loss: 2.7282e-09 - accuracy: 1.0000\n",
            "Epoch 704/1000\n",
            "2/2 [==============================] - 0s 6ms/step - loss: 2.7282e-09 - accuracy: 1.0000\n",
            "Epoch 705/1000\n",
            "2/2 [==============================] - 0s 6ms/step - loss: 2.7327e-09 - accuracy: 1.0000\n",
            "Epoch 706/1000\n",
            "2/2 [==============================] - 0s 7ms/step - loss: 2.7323e-09 - accuracy: 1.0000\n",
            "Epoch 707/1000\n",
            "2/2 [==============================] - 0s 7ms/step - loss: 2.7002e-09 - accuracy: 1.0000\n",
            "Epoch 708/1000\n",
            "2/2 [==============================] - 0s 7ms/step - loss: 2.7011e-09 - accuracy: 1.0000\n",
            "Epoch 709/1000\n",
            "2/2 [==============================] - 0s 6ms/step - loss: 2.7020e-09 - accuracy: 1.0000\n",
            "Epoch 710/1000\n",
            "2/2 [==============================] - 0s 7ms/step - loss: 2.7028e-09 - accuracy: 1.0000\n",
            "Epoch 711/1000\n",
            "2/2 [==============================] - 0s 6ms/step - loss: 2.7038e-09 - accuracy: 1.0000\n",
            "Epoch 712/1000\n",
            "2/2 [==============================] - 0s 8ms/step - loss: 2.7046e-09 - accuracy: 1.0000\n",
            "Epoch 713/1000\n",
            "2/2 [==============================] - 0s 7ms/step - loss: 2.7092e-09 - accuracy: 1.0000\n",
            "Epoch 714/1000\n",
            "2/2 [==============================] - 0s 7ms/step - loss: 2.7109e-09 - accuracy: 1.0000\n",
            "Epoch 715/1000\n",
            "2/2 [==============================] - 0s 6ms/step - loss: 2.7110e-09 - accuracy: 1.0000\n",
            "Epoch 716/1000\n",
            "2/2 [==============================] - 0s 5ms/step - loss: 2.7119e-09 - accuracy: 1.0000\n",
            "Epoch 717/1000\n",
            "2/2 [==============================] - 0s 5ms/step - loss: 2.7128e-09 - accuracy: 1.0000\n",
            "Epoch 718/1000\n",
            "2/2 [==============================] - 0s 8ms/step - loss: 2.7137e-09 - accuracy: 1.0000\n",
            "Epoch 719/1000\n",
            "2/2 [==============================] - 0s 6ms/step - loss: 2.7146e-09 - accuracy: 1.0000\n",
            "Epoch 720/1000\n",
            "2/2 [==============================] - 0s 4ms/step - loss: 2.7154e-09 - accuracy: 1.0000\n",
            "Epoch 721/1000\n",
            "2/2 [==============================] - 0s 5ms/step - loss: 2.7199e-09 - accuracy: 1.0000\n",
            "Epoch 722/1000\n",
            "2/2 [==============================] - 0s 10ms/step - loss: 2.7207e-09 - accuracy: 1.0000\n",
            "Epoch 723/1000\n",
            "2/2 [==============================] - 0s 7ms/step - loss: 2.7236e-09 - accuracy: 1.0000\n",
            "Epoch 724/1000\n",
            "2/2 [==============================] - 0s 7ms/step - loss: 2.6922e-09 - accuracy: 1.0000\n",
            "Epoch 725/1000\n",
            "2/2 [==============================] - 0s 6ms/step - loss: 2.6923e-09 - accuracy: 1.0000\n",
            "Epoch 726/1000\n",
            "2/2 [==============================] - 0s 5ms/step - loss: 2.6932e-09 - accuracy: 1.0000\n",
            "Epoch 727/1000\n",
            "2/2 [==============================] - 0s 6ms/step - loss: 2.6941e-09 - accuracy: 1.0000\n",
            "Epoch 728/1000\n",
            "2/2 [==============================] - 0s 6ms/step - loss: 2.6949e-09 - accuracy: 1.0000\n",
            "Epoch 729/1000\n",
            "2/2 [==============================] - 0s 6ms/step - loss: 2.6958e-09 - accuracy: 1.0000\n",
            "Epoch 730/1000\n",
            "2/2 [==============================] - 0s 10ms/step - loss: 2.6966e-09 - accuracy: 1.0000\n",
            "Epoch 731/1000\n",
            "2/2 [==============================] - 0s 8ms/step - loss: 2.7011e-09 - accuracy: 1.0000\n",
            "Epoch 732/1000\n",
            "2/2 [==============================] - 0s 7ms/step - loss: 2.7020e-09 - accuracy: 1.0000\n",
            "Epoch 733/1000\n",
            "2/2 [==============================] - 0s 6ms/step - loss: 2.7029e-09 - accuracy: 1.0000\n",
            "Epoch 734/1000\n",
            "2/2 [==============================] - 0s 7ms/step - loss: 2.7037e-09 - accuracy: 1.0000\n",
            "Epoch 735/1000\n",
            "2/2 [==============================] - 0s 5ms/step - loss: 2.7054e-09 - accuracy: 1.0000\n",
            "Epoch 736/1000\n",
            "2/2 [==============================] - 0s 5ms/step - loss: 2.7055e-09 - accuracy: 1.0000\n",
            "Epoch 737/1000\n",
            "2/2 [==============================] - 0s 5ms/step - loss: 2.7098e-09 - accuracy: 1.0000\n",
            "Epoch 738/1000\n",
            "2/2 [==============================] - 0s 9ms/step - loss: 2.7140e-09 - accuracy: 1.0000\n",
            "Epoch 739/1000\n",
            "2/2 [==============================] - 0s 5ms/step - loss: 2.7156e-09 - accuracy: 1.0000\n",
            "Epoch 740/1000\n",
            "2/2 [==============================] - 0s 5ms/step - loss: 2.7164e-09 - accuracy: 1.0000\n",
            "Epoch 741/1000\n",
            "2/2 [==============================] - 0s 6ms/step - loss: 2.7172e-09 - accuracy: 1.0000\n",
            "Epoch 742/1000\n",
            "2/2 [==============================] - 0s 6ms/step - loss: 2.7163e-09 - accuracy: 1.0000\n",
            "Epoch 743/1000\n",
            "2/2 [==============================] - 0s 6ms/step - loss: 2.6835e-09 - accuracy: 1.0000\n",
            "Epoch 744/1000\n",
            "2/2 [==============================] - 0s 5ms/step - loss: 2.6843e-09 - accuracy: 1.0000\n",
            "Epoch 745/1000\n",
            "2/2 [==============================] - 0s 5ms/step - loss: 2.6852e-09 - accuracy: 1.0000\n",
            "Epoch 746/1000\n",
            "2/2 [==============================] - 0s 5ms/step - loss: 2.6861e-09 - accuracy: 1.0000\n",
            "Epoch 747/1000\n",
            "2/2 [==============================] - 0s 5ms/step - loss: 2.6869e-09 - accuracy: 1.0000\n",
            "Epoch 748/1000\n",
            "2/2 [==============================] - 0s 6ms/step - loss: 2.6912e-09 - accuracy: 1.0000\n",
            "Epoch 749/1000\n",
            "2/2 [==============================] - 0s 5ms/step - loss: 2.6920e-09 - accuracy: 1.0000\n",
            "Epoch 750/1000\n",
            "2/2 [==============================] - 0s 5ms/step - loss: 2.6929e-09 - accuracy: 1.0000\n",
            "Epoch 751/1000\n",
            "2/2 [==============================] - 0s 7ms/step - loss: 2.6938e-09 - accuracy: 1.0000\n",
            "Epoch 752/1000\n",
            "2/2 [==============================] - 0s 5ms/step - loss: 2.6947e-09 - accuracy: 1.0000\n",
            "Epoch 753/1000\n",
            "2/2 [==============================] - 0s 5ms/step - loss: 2.6991e-09 - accuracy: 1.0000\n",
            "Epoch 754/1000\n",
            "2/2 [==============================] - 0s 6ms/step - loss: 2.6999e-09 - accuracy: 1.0000\n",
            "Epoch 755/1000\n",
            "2/2 [==============================] - 0s 12ms/step - loss: 2.7007e-09 - accuracy: 1.0000\n",
            "Epoch 756/1000\n",
            "2/2 [==============================] - 0s 6ms/step - loss: 2.7015e-09 - accuracy: 1.0000\n",
            "Epoch 757/1000\n",
            "2/2 [==============================] - 0s 7ms/step - loss: 2.7024e-09 - accuracy: 1.0000\n",
            "Epoch 758/1000\n",
            "2/2 [==============================] - 0s 6ms/step - loss: 2.7032e-09 - accuracy: 1.0000\n",
            "Epoch 759/1000\n",
            "2/2 [==============================] - 0s 6ms/step - loss: 2.7040e-09 - accuracy: 1.0000\n",
            "Epoch 760/1000\n",
            "2/2 [==============================] - 0s 6ms/step - loss: 2.7048e-09 - accuracy: 1.0000\n",
            "Epoch 761/1000\n",
            "2/2 [==============================] - 0s 5ms/step - loss: 2.7057e-09 - accuracy: 1.0000\n",
            "Epoch 762/1000\n",
            "2/2 [==============================] - 0s 6ms/step - loss: 2.7065e-09 - accuracy: 1.0000\n",
            "Epoch 763/1000\n",
            "2/2 [==============================] - 0s 7ms/step - loss: 2.7072e-09 - accuracy: 1.0000\n",
            "Epoch 764/1000\n",
            "2/2 [==============================] - 0s 5ms/step - loss: 2.7060e-09 - accuracy: 1.0000\n",
            "Epoch 765/1000\n",
            "2/2 [==============================] - 0s 5ms/step - loss: 2.6749e-09 - accuracy: 1.0000\n",
            "Epoch 766/1000\n",
            "2/2 [==============================] - 0s 4ms/step - loss: 2.6757e-09 - accuracy: 1.0000\n",
            "Epoch 767/1000\n",
            "2/2 [==============================] - 0s 7ms/step - loss: 2.6759e-09 - accuracy: 1.0000\n",
            "Epoch 768/1000\n",
            "2/2 [==============================] - 0s 7ms/step - loss: 2.6767e-09 - accuracy: 1.0000\n",
            "Epoch 769/1000\n",
            "2/2 [==============================] - 0s 9ms/step - loss: 2.6775e-09 - accuracy: 1.0000\n",
            "Epoch 770/1000\n",
            "2/2 [==============================] - 0s 7ms/step - loss: 2.6783e-09 - accuracy: 1.0000\n",
            "Epoch 771/1000\n",
            "2/2 [==============================] - 0s 8ms/step - loss: 2.6825e-09 - accuracy: 1.0000\n",
            "Epoch 772/1000\n",
            "2/2 [==============================] - 0s 7ms/step - loss: 2.6841e-09 - accuracy: 1.0000\n",
            "Epoch 773/1000\n",
            "2/2 [==============================] - 0s 6ms/step - loss: 2.6842e-09 - accuracy: 1.0000\n",
            "Epoch 774/1000\n",
            "2/2 [==============================] - 0s 11ms/step - loss: 2.6850e-09 - accuracy: 1.0000\n",
            "Epoch 775/1000\n",
            "2/2 [==============================] - 0s 5ms/step - loss: 2.6859e-09 - accuracy: 1.0000\n",
            "Epoch 776/1000\n",
            "2/2 [==============================] - 0s 6ms/step - loss: 2.6901e-09 - accuracy: 1.0000\n",
            "Epoch 777/1000\n",
            "2/2 [==============================] - 0s 5ms/step - loss: 2.6909e-09 - accuracy: 1.0000\n",
            "Epoch 778/1000\n",
            "2/2 [==============================] - 0s 5ms/step - loss: 2.6949e-09 - accuracy: 1.0000\n",
            "Epoch 779/1000\n",
            "2/2 [==============================] - 0s 6ms/step - loss: 2.6957e-09 - accuracy: 1.0000\n",
            "Epoch 780/1000\n",
            "2/2 [==============================] - 0s 6ms/step - loss: 2.6965e-09 - accuracy: 1.0000\n",
            "Epoch 781/1000\n",
            "2/2 [==============================] - 0s 9ms/step - loss: 2.6973e-09 - accuracy: 1.0000\n",
            "Epoch 782/1000\n",
            "2/2 [==============================] - 0s 4ms/step - loss: 2.6981e-09 - accuracy: 1.0000\n",
            "Epoch 783/1000\n",
            "2/2 [==============================] - 0s 4ms/step - loss: 2.6970e-09 - accuracy: 1.0000\n",
            "Epoch 784/1000\n",
            "2/2 [==============================] - 0s 4ms/step - loss: 2.6651e-09 - accuracy: 1.0000\n",
            "Epoch 785/1000\n",
            "2/2 [==============================] - 0s 10ms/step - loss: 2.6659e-09 - accuracy: 1.0000\n",
            "Epoch 786/1000\n",
            "2/2 [==============================] - 0s 6ms/step - loss: 2.6667e-09 - accuracy: 1.0000\n",
            "Epoch 787/1000\n",
            "2/2 [==============================] - 0s 5ms/step - loss: 2.6674e-09 - accuracy: 1.0000\n",
            "Epoch 788/1000\n",
            "2/2 [==============================] - 0s 5ms/step - loss: 2.6683e-09 - accuracy: 1.0000\n",
            "Epoch 789/1000\n",
            "2/2 [==============================] - 0s 8ms/step - loss: 2.6691e-09 - accuracy: 1.0000\n",
            "Epoch 790/1000\n",
            "2/2 [==============================] - 0s 5ms/step - loss: 2.6739e-09 - accuracy: 1.0000\n",
            "Epoch 791/1000\n",
            "2/2 [==============================] - 0s 6ms/step - loss: 2.6740e-09 - accuracy: 1.0000\n",
            "Epoch 792/1000\n",
            "2/2 [==============================] - 0s 8ms/step - loss: 2.6755e-09 - accuracy: 1.0000\n",
            "Epoch 793/1000\n",
            "2/2 [==============================] - 0s 6ms/step - loss: 2.6757e-09 - accuracy: 1.0000\n",
            "Epoch 794/1000\n",
            "2/2 [==============================] - 0s 5ms/step - loss: 2.6764e-09 - accuracy: 1.0000\n",
            "Epoch 795/1000\n",
            "2/2 [==============================] - 0s 6ms/step - loss: 2.6773e-09 - accuracy: 1.0000\n",
            "Epoch 796/1000\n",
            "2/2 [==============================] - 0s 5ms/step - loss: 2.6814e-09 - accuracy: 1.0000\n",
            "Epoch 797/1000\n",
            "2/2 [==============================] - 0s 5ms/step - loss: 2.6828e-09 - accuracy: 1.0000\n",
            "Epoch 798/1000\n",
            "2/2 [==============================] - 0s 6ms/step - loss: 2.6836e-09 - accuracy: 1.0000\n",
            "Epoch 799/1000\n",
            "2/2 [==============================] - 0s 5ms/step - loss: 2.6838e-09 - accuracy: 1.0000\n",
            "Epoch 800/1000\n",
            "2/2 [==============================] - 0s 6ms/step - loss: 2.6845e-09 - accuracy: 1.0000\n",
            "Epoch 801/1000\n",
            "2/2 [==============================] - 0s 7ms/step - loss: 2.6853e-09 - accuracy: 1.0000\n",
            "Epoch 802/1000\n",
            "2/2 [==============================] - 0s 7ms/step - loss: 2.6867e-09 - accuracy: 1.0000\n",
            "Epoch 803/1000\n",
            "2/2 [==============================] - 0s 6ms/step - loss: 2.6869e-09 - accuracy: 1.0000\n",
            "Epoch 804/1000\n",
            "2/2 [==============================] - 0s 5ms/step - loss: 2.6877e-09 - accuracy: 1.0000\n",
            "Epoch 805/1000\n",
            "2/2 [==============================] - 0s 6ms/step - loss: 2.6884e-09 - accuracy: 1.0000\n",
            "Epoch 806/1000\n",
            "2/2 [==============================] - 0s 6ms/step - loss: 2.6892e-09 - accuracy: 1.0000\n",
            "Epoch 807/1000\n",
            "2/2 [==============================] - 0s 6ms/step - loss: 2.6900e-09 - accuracy: 1.0000\n",
            "Epoch 808/1000\n",
            "2/2 [==============================] - 0s 6ms/step - loss: 2.6907e-09 - accuracy: 1.0000\n",
            "Epoch 809/1000\n",
            "2/2 [==============================] - 0s 5ms/step - loss: 2.6914e-09 - accuracy: 1.0000\n",
            "Epoch 810/1000\n",
            "2/2 [==============================] - 0s 6ms/step - loss: 2.6608e-09 - accuracy: 1.0000\n",
            "Epoch 811/1000\n",
            "2/2 [==============================] - 0s 6ms/step - loss: 2.6615e-09 - accuracy: 1.0000\n",
            "Epoch 812/1000\n",
            "2/2 [==============================] - 0s 6ms/step - loss: 2.6623e-09 - accuracy: 1.0000\n",
            "Epoch 813/1000\n",
            "2/2 [==============================] - 0s 5ms/step - loss: 2.6631e-09 - accuracy: 1.0000\n",
            "Epoch 814/1000\n",
            "2/2 [==============================] - 0s 6ms/step - loss: 2.6646e-09 - accuracy: 1.0000\n",
            "Epoch 815/1000\n",
            "2/2 [==============================] - 0s 5ms/step - loss: 2.6647e-09 - accuracy: 1.0000\n",
            "Epoch 816/1000\n",
            "2/2 [==============================] - 0s 6ms/step - loss: 2.6655e-09 - accuracy: 1.0000\n",
            "Epoch 817/1000\n",
            "2/2 [==============================] - 0s 5ms/step - loss: 2.6695e-09 - accuracy: 1.0000\n",
            "Epoch 818/1000\n",
            "2/2 [==============================] - 0s 5ms/step - loss: 2.6710e-09 - accuracy: 1.0000\n",
            "Epoch 819/1000\n",
            "2/2 [==============================] - 0s 8ms/step - loss: 2.6717e-09 - accuracy: 1.0000\n",
            "Epoch 820/1000\n",
            "2/2 [==============================] - 0s 7ms/step - loss: 2.6719e-09 - accuracy: 1.0000\n",
            "Epoch 821/1000\n",
            "2/2 [==============================] - 0s 8ms/step - loss: 2.6726e-09 - accuracy: 1.0000\n",
            "Epoch 822/1000\n",
            "2/2 [==============================] - 0s 6ms/step - loss: 2.6764e-09 - accuracy: 1.0000\n",
            "Epoch 823/1000\n",
            "2/2 [==============================] - 0s 9ms/step - loss: 2.6778e-09 - accuracy: 1.0000\n",
            "Epoch 824/1000\n",
            "2/2 [==============================] - 0s 8ms/step - loss: 2.6779e-09 - accuracy: 1.0000\n",
            "Epoch 825/1000\n",
            "2/2 [==============================] - 0s 4ms/step - loss: 2.6786e-09 - accuracy: 1.0000\n",
            "Epoch 826/1000\n",
            "2/2 [==============================] - 0s 5ms/step - loss: 2.6810e-09 - accuracy: 1.0000\n",
            "Epoch 827/1000\n",
            "2/2 [==============================] - 0s 16ms/step - loss: 2.6483e-09 - accuracy: 1.0000\n",
            "Epoch 828/1000\n",
            "2/2 [==============================] - 0s 6ms/step - loss: 2.6490e-09 - accuracy: 1.0000\n",
            "Epoch 829/1000\n",
            "2/2 [==============================] - 0s 7ms/step - loss: 2.6498e-09 - accuracy: 1.0000\n",
            "Epoch 830/1000\n",
            "2/2 [==============================] - 0s 7ms/step - loss: 2.6506e-09 - accuracy: 1.0000\n",
            "Epoch 831/1000\n",
            "2/2 [==============================] - 0s 6ms/step - loss: 2.6513e-09 - accuracy: 1.0000\n",
            "Epoch 832/1000\n",
            "2/2 [==============================] - 0s 4ms/step - loss: 2.6521e-09 - accuracy: 1.0000\n",
            "Epoch 833/1000\n",
            "2/2 [==============================] - 0s 9ms/step - loss: 2.6529e-09 - accuracy: 1.0000\n",
            "Epoch 834/1000\n",
            "2/2 [==============================] - 0s 6ms/step - loss: 2.6536e-09 - accuracy: 1.0000\n",
            "Epoch 835/1000\n",
            "2/2 [==============================] - 0s 5ms/step - loss: 2.6544e-09 - accuracy: 1.0000\n",
            "Epoch 836/1000\n",
            "2/2 [==============================] - 0s 5ms/step - loss: 2.6552e-09 - accuracy: 1.0000\n",
            "Epoch 837/1000\n",
            "2/2 [==============================] - 0s 5ms/step - loss: 2.6559e-09 - accuracy: 1.0000\n",
            "Epoch 838/1000\n",
            "2/2 [==============================] - 0s 7ms/step - loss: 2.6567e-09 - accuracy: 1.0000\n",
            "Epoch 839/1000\n",
            "2/2 [==============================] - 0s 6ms/step - loss: 2.6575e-09 - accuracy: 1.0000\n",
            "Epoch 840/1000\n",
            "2/2 [==============================] - 0s 7ms/step - loss: 2.6583e-09 - accuracy: 1.0000\n",
            "Epoch 841/1000\n",
            "2/2 [==============================] - 0s 6ms/step - loss: 2.6622e-09 - accuracy: 1.0000\n",
            "Epoch 842/1000\n",
            "2/2 [==============================] - 0s 6ms/step - loss: 2.6630e-09 - accuracy: 1.0000\n",
            "Epoch 843/1000\n",
            "2/2 [==============================] - 0s 6ms/step - loss: 2.6637e-09 - accuracy: 1.0000\n",
            "Epoch 844/1000\n",
            "2/2 [==============================] - 0s 7ms/step - loss: 2.6645e-09 - accuracy: 1.0000\n",
            "Epoch 845/1000\n",
            "2/2 [==============================] - 0s 5ms/step - loss: 2.6659e-09 - accuracy: 1.0000\n",
            "Epoch 846/1000\n",
            "2/2 [==============================] - 0s 6ms/step - loss: 2.6660e-09 - accuracy: 1.0000\n",
            "Epoch 847/1000\n",
            "2/2 [==============================] - 0s 5ms/step - loss: 2.6674e-09 - accuracy: 1.0000\n",
            "Epoch 848/1000\n",
            "2/2 [==============================] - 0s 7ms/step - loss: 2.6675e-09 - accuracy: 1.0000\n",
            "Epoch 849/1000\n",
            "2/2 [==============================] - 0s 5ms/step - loss: 2.6682e-09 - accuracy: 1.0000\n",
            "Epoch 850/1000\n",
            "2/2 [==============================] - 0s 5ms/step - loss: 2.6690e-09 - accuracy: 1.0000\n",
            "Epoch 851/1000\n",
            "2/2 [==============================] - 0s 6ms/step - loss: 2.6697e-09 - accuracy: 1.0000\n",
            "Epoch 852/1000\n",
            "2/2 [==============================] - 0s 5ms/step - loss: 2.6739e-09 - accuracy: 1.0000\n",
            "Epoch 853/1000\n",
            "2/2 [==============================] - 0s 6ms/step - loss: 2.6740e-09 - accuracy: 1.0000\n",
            "Epoch 854/1000\n",
            "2/2 [==============================] - 0s 6ms/step - loss: 2.6724e-09 - accuracy: 1.0000\n",
            "Epoch 855/1000\n",
            "2/2 [==============================] - 0s 6ms/step - loss: 2.6405e-09 - accuracy: 1.0000\n",
            "Epoch 856/1000\n",
            "2/2 [==============================] - 0s 7ms/step - loss: 2.6412e-09 - accuracy: 1.0000\n",
            "Epoch 857/1000\n",
            "2/2 [==============================] - 0s 7ms/step - loss: 2.6420e-09 - accuracy: 1.0000\n",
            "Epoch 858/1000\n",
            "2/2 [==============================] - 0s 6ms/step - loss: 2.6427e-09 - accuracy: 1.0000\n",
            "Epoch 859/1000\n",
            "2/2 [==============================] - 0s 5ms/step - loss: 2.6434e-09 - accuracy: 1.0000\n",
            "Epoch 860/1000\n",
            "2/2 [==============================] - 0s 6ms/step - loss: 2.6442e-09 - accuracy: 1.0000\n",
            "Epoch 861/1000\n",
            "2/2 [==============================] - 0s 6ms/step - loss: 2.6456e-09 - accuracy: 1.0000\n",
            "Epoch 862/1000\n",
            "2/2 [==============================] - 0s 7ms/step - loss: 2.6457e-09 - accuracy: 1.0000\n",
            "Epoch 863/1000\n",
            "2/2 [==============================] - 0s 10ms/step - loss: 2.6465e-09 - accuracy: 1.0000\n",
            "Epoch 864/1000\n",
            "2/2 [==============================] - 0s 5ms/step - loss: 2.6472e-09 - accuracy: 1.0000\n",
            "Epoch 865/1000\n",
            "2/2 [==============================] - 0s 10ms/step - loss: 2.6479e-09 - accuracy: 1.0000\n",
            "Epoch 866/1000\n",
            "2/2 [==============================] - 0s 5ms/step - loss: 2.6487e-09 - accuracy: 1.0000\n",
            "Epoch 867/1000\n",
            "2/2 [==============================] - 0s 5ms/step - loss: 2.6494e-09 - accuracy: 1.0000\n",
            "Epoch 868/1000\n",
            "2/2 [==============================] - 0s 8ms/step - loss: 2.6502e-09 - accuracy: 1.0000\n",
            "Epoch 869/1000\n",
            "2/2 [==============================] - 0s 7ms/step - loss: 2.6509e-09 - accuracy: 1.0000\n",
            "Epoch 870/1000\n",
            "2/2 [==============================] - 0s 5ms/step - loss: 2.6547e-09 - accuracy: 1.0000\n",
            "Epoch 871/1000\n",
            "2/2 [==============================] - 0s 10ms/step - loss: 2.6554e-09 - accuracy: 1.0000\n",
            "Epoch 872/1000\n",
            "2/2 [==============================] - 0s 5ms/step - loss: 2.6562e-09 - accuracy: 1.0000\n",
            "Epoch 873/1000\n",
            "2/2 [==============================] - 0s 5ms/step - loss: 2.6569e-09 - accuracy: 1.0000\n",
            "Epoch 874/1000\n",
            "2/2 [==============================] - 0s 5ms/step - loss: 2.6576e-09 - accuracy: 1.0000\n",
            "Epoch 875/1000\n",
            "2/2 [==============================] - 0s 7ms/step - loss: 2.6584e-09 - accuracy: 1.0000\n",
            "Epoch 876/1000\n",
            "2/2 [==============================] - 0s 7ms/step - loss: 2.6591e-09 - accuracy: 1.0000\n",
            "Epoch 877/1000\n",
            "2/2 [==============================] - 0s 7ms/step - loss: 2.6598e-09 - accuracy: 1.0000\n",
            "Epoch 878/1000\n",
            "2/2 [==============================] - 0s 6ms/step - loss: 2.6633e-09 - accuracy: 1.0000\n",
            "Epoch 879/1000\n",
            "2/2 [==============================] - 0s 5ms/step - loss: 2.6640e-09 - accuracy: 1.0000\n",
            "Epoch 880/1000\n",
            "2/2 [==============================] - 0s 5ms/step - loss: 2.6647e-09 - accuracy: 1.0000\n",
            "Epoch 881/1000\n",
            "2/2 [==============================] - 0s 6ms/step - loss: 2.6653e-09 - accuracy: 1.0000\n",
            "Epoch 882/1000\n",
            "2/2 [==============================] - 0s 6ms/step - loss: 2.6660e-09 - accuracy: 1.0000\n",
            "Epoch 883/1000\n",
            "2/2 [==============================] - 0s 7ms/step - loss: 2.6700e-09 - accuracy: 1.0000\n",
            "Epoch 884/1000\n",
            "2/2 [==============================] - 0s 8ms/step - loss: 2.6379e-09 - accuracy: 1.0000\n",
            "Epoch 885/1000\n",
            "2/2 [==============================] - 0s 5ms/step - loss: 2.6386e-09 - accuracy: 1.0000\n",
            "Epoch 886/1000\n",
            "2/2 [==============================] - 0s 6ms/step - loss: 2.6393e-09 - accuracy: 1.0000\n",
            "Epoch 887/1000\n",
            "2/2 [==============================] - 0s 7ms/step - loss: 2.6400e-09 - accuracy: 1.0000\n",
            "Epoch 888/1000\n",
            "2/2 [==============================] - 0s 6ms/step - loss: 2.6407e-09 - accuracy: 1.0000\n",
            "Epoch 889/1000\n",
            "2/2 [==============================] - 0s 6ms/step - loss: 2.6415e-09 - accuracy: 1.0000\n",
            "Epoch 890/1000\n",
            "2/2 [==============================] - 0s 10ms/step - loss: 2.6423e-09 - accuracy: 1.0000\n",
            "Epoch 891/1000\n",
            "2/2 [==============================] - 0s 5ms/step - loss: 2.6429e-09 - accuracy: 1.0000\n",
            "Epoch 892/1000\n",
            "2/2 [==============================] - 0s 5ms/step - loss: 2.6443e-09 - accuracy: 1.0000\n",
            "Epoch 893/1000\n",
            "2/2 [==============================] - 0s 5ms/step - loss: 2.6444e-09 - accuracy: 1.0000\n",
            "Epoch 894/1000\n",
            "2/2 [==============================] - 0s 6ms/step - loss: 2.6451e-09 - accuracy: 1.0000\n",
            "Epoch 895/1000\n",
            "2/2 [==============================] - 0s 6ms/step - loss: 2.6465e-09 - accuracy: 1.0000\n",
            "Epoch 896/1000\n",
            "2/2 [==============================] - 0s 7ms/step - loss: 2.6466e-09 - accuracy: 1.0000\n",
            "Epoch 897/1000\n",
            "2/2 [==============================] - 0s 6ms/step - loss: 2.6480e-09 - accuracy: 1.0000\n",
            "Epoch 898/1000\n",
            "2/2 [==============================] - 0s 8ms/step - loss: 2.6481e-09 - accuracy: 1.0000\n",
            "Epoch 899/1000\n",
            "2/2 [==============================] - 0s 7ms/step - loss: 2.6488e-09 - accuracy: 1.0000\n",
            "Epoch 900/1000\n",
            "2/2 [==============================] - 0s 6ms/step - loss: 2.6495e-09 - accuracy: 1.0000\n",
            "Epoch 901/1000\n",
            "2/2 [==============================] - 0s 7ms/step - loss: 2.6502e-09 - accuracy: 1.0000\n",
            "Epoch 902/1000\n",
            "2/2 [==============================] - 0s 7ms/step - loss: 2.6509e-09 - accuracy: 1.0000\n",
            "Epoch 903/1000\n",
            "2/2 [==============================] - 0s 8ms/step - loss: 2.6516e-09 - accuracy: 1.0000\n",
            "Epoch 904/1000\n",
            "2/2 [==============================] - 0s 5ms/step - loss: 2.6523e-09 - accuracy: 1.0000\n",
            "Epoch 905/1000\n",
            "2/2 [==============================] - 0s 5ms/step - loss: 2.6530e-09 - accuracy: 1.0000\n",
            "Epoch 906/1000\n",
            "2/2 [==============================] - 0s 6ms/step - loss: 2.6537e-09 - accuracy: 1.0000\n",
            "Epoch 907/1000\n",
            "2/2 [==============================] - 0s 7ms/step - loss: 2.6544e-09 - accuracy: 1.0000\n",
            "Epoch 908/1000\n",
            "2/2 [==============================] - 0s 8ms/step - loss: 2.6577e-09 - accuracy: 1.0000\n",
            "Epoch 909/1000\n",
            "2/2 [==============================] - 0s 10ms/step - loss: 2.6584e-09 - accuracy: 1.0000\n",
            "Epoch 910/1000\n",
            "2/2 [==============================] - 0s 7ms/step - loss: 2.6572e-09 - accuracy: 1.0000\n",
            "Epoch 911/1000\n",
            "2/2 [==============================] - 0s 6ms/step - loss: 2.6248e-09 - accuracy: 1.0000\n",
            "Epoch 912/1000\n",
            "2/2 [==============================] - 0s 6ms/step - loss: 2.6283e-09 - accuracy: 1.0000\n",
            "Epoch 913/1000\n",
            "2/2 [==============================] - 0s 5ms/step - loss: 2.6290e-09 - accuracy: 1.0000\n",
            "Epoch 914/1000\n",
            "2/2 [==============================] - 0s 5ms/step - loss: 2.6297e-09 - accuracy: 1.0000\n",
            "Epoch 915/1000\n",
            "2/2 [==============================] - 0s 5ms/step - loss: 2.6304e-09 - accuracy: 1.0000\n",
            "Epoch 916/1000\n",
            "2/2 [==============================] - 0s 5ms/step - loss: 2.6311e-09 - accuracy: 1.0000\n",
            "Epoch 917/1000\n",
            "2/2 [==============================] - 0s 7ms/step - loss: 2.6318e-09 - accuracy: 1.0000\n",
            "Epoch 918/1000\n",
            "2/2 [==============================] - 0s 5ms/step - loss: 2.6331e-09 - accuracy: 1.0000\n",
            "Epoch 919/1000\n",
            "2/2 [==============================] - 0s 5ms/step - loss: 2.6332e-09 - accuracy: 1.0000\n",
            "Epoch 920/1000\n",
            "2/2 [==============================] - 0s 6ms/step - loss: 2.6345e-09 - accuracy: 1.0000\n",
            "Epoch 921/1000\n",
            "2/2 [==============================] - 0s 5ms/step - loss: 2.6346e-09 - accuracy: 1.0000\n",
            "Epoch 922/1000\n",
            "2/2 [==============================] - 0s 5ms/step - loss: 2.6353e-09 - accuracy: 1.0000\n",
            "Epoch 923/1000\n",
            "2/2 [==============================] - 0s 5ms/step - loss: 2.6360e-09 - accuracy: 1.0000\n",
            "Epoch 924/1000\n",
            "2/2 [==============================] - 0s 6ms/step - loss: 2.6368e-09 - accuracy: 1.0000\n",
            "Epoch 925/1000\n",
            "2/2 [==============================] - 0s 5ms/step - loss: 2.6375e-09 - accuracy: 1.0000\n",
            "Epoch 926/1000\n",
            "2/2 [==============================] - 0s 5ms/step - loss: 2.6388e-09 - accuracy: 1.0000\n",
            "Epoch 927/1000\n",
            "2/2 [==============================] - 0s 9ms/step - loss: 2.6395e-09 - accuracy: 1.0000\n",
            "Epoch 928/1000\n",
            "2/2 [==============================] - 0s 6ms/step - loss: 2.6396e-09 - accuracy: 1.0000\n",
            "Epoch 929/1000\n",
            "2/2 [==============================] - 0s 5ms/step - loss: 2.6402e-09 - accuracy: 1.0000\n",
            "Epoch 930/1000\n",
            "2/2 [==============================] - 0s 11ms/step - loss: 2.6410e-09 - accuracy: 1.0000\n",
            "Epoch 931/1000\n",
            "2/2 [==============================] - 0s 8ms/step - loss: 2.6416e-09 - accuracy: 1.0000\n",
            "Epoch 932/1000\n",
            "2/2 [==============================] - 0s 7ms/step - loss: 2.6423e-09 - accuracy: 1.0000\n",
            "Epoch 933/1000\n",
            "2/2 [==============================] - 0s 7ms/step - loss: 2.6435e-09 - accuracy: 1.0000\n",
            "Epoch 934/1000\n",
            "2/2 [==============================] - 0s 5ms/step - loss: 2.6437e-09 - accuracy: 1.0000\n",
            "Epoch 935/1000\n",
            "2/2 [==============================] - 0s 5ms/step - loss: 2.6443e-09 - accuracy: 1.0000\n",
            "Epoch 936/1000\n",
            "2/2 [==============================] - 0s 5ms/step - loss: 2.6450e-09 - accuracy: 1.0000\n",
            "Epoch 937/1000\n",
            "2/2 [==============================] - 0s 5ms/step - loss: 2.6457e-09 - accuracy: 1.0000\n",
            "Epoch 938/1000\n",
            "2/2 [==============================] - 0s 10ms/step - loss: 2.6463e-09 - accuracy: 1.0000\n",
            "Epoch 939/1000\n",
            "2/2 [==============================] - 0s 6ms/step - loss: 2.6475e-09 - accuracy: 1.0000\n",
            "Epoch 940/1000\n",
            "2/2 [==============================] - 0s 4ms/step - loss: 2.6476e-09 - accuracy: 1.0000\n",
            "Epoch 941/1000\n",
            "2/2 [==============================] - 0s 6ms/step - loss: 2.6483e-09 - accuracy: 1.0000\n",
            "Epoch 942/1000\n",
            "2/2 [==============================] - 0s 6ms/step - loss: 2.6497e-09 - accuracy: 1.0000\n",
            "Epoch 943/1000\n",
            "2/2 [==============================] - 0s 5ms/step - loss: 2.6171e-09 - accuracy: 1.0000\n",
            "Epoch 944/1000\n",
            "2/2 [==============================] - 0s 12ms/step - loss: 2.6205e-09 - accuracy: 1.0000\n",
            "Epoch 945/1000\n",
            "2/2 [==============================] - 0s 7ms/step - loss: 2.6212e-09 - accuracy: 1.0000\n",
            "Epoch 946/1000\n",
            "2/2 [==============================] - 0s 6ms/step - loss: 2.6218e-09 - accuracy: 1.0000\n",
            "Epoch 947/1000\n",
            "2/2 [==============================] - 0s 5ms/step - loss: 2.6253e-09 - accuracy: 1.0000\n",
            "Epoch 948/1000\n",
            "2/2 [==============================] - 0s 6ms/step - loss: 2.6260e-09 - accuracy: 1.0000\n",
            "Epoch 949/1000\n",
            "2/2 [==============================] - 0s 7ms/step - loss: 2.6266e-09 - accuracy: 1.0000\n",
            "Epoch 950/1000\n",
            "2/2 [==============================] - 0s 6ms/step - loss: 2.6273e-09 - accuracy: 1.0000\n",
            "Epoch 951/1000\n",
            "2/2 [==============================] - 0s 5ms/step - loss: 2.6307e-09 - accuracy: 1.0000\n",
            "Epoch 952/1000\n",
            "2/2 [==============================] - 0s 5ms/step - loss: 2.6320e-09 - accuracy: 1.0000\n",
            "Epoch 953/1000\n",
            "2/2 [==============================] - 0s 6ms/step - loss: 2.6321e-09 - accuracy: 1.0000\n",
            "Epoch 954/1000\n",
            "2/2 [==============================] - 0s 6ms/step - loss: 2.6328e-09 - accuracy: 1.0000\n",
            "Epoch 955/1000\n",
            "2/2 [==============================] - 0s 6ms/step - loss: 2.6334e-09 - accuracy: 1.0000\n",
            "Epoch 956/1000\n",
            "2/2 [==============================] - 0s 9ms/step - loss: 2.6346e-09 - accuracy: 1.0000\n",
            "Epoch 957/1000\n",
            "2/2 [==============================] - 0s 7ms/step - loss: 2.6353e-09 - accuracy: 1.0000\n",
            "Epoch 958/1000\n",
            "2/2 [==============================] - 0s 6ms/step - loss: 2.6354e-09 - accuracy: 1.0000\n",
            "Epoch 959/1000\n",
            "2/2 [==============================] - 0s 7ms/step - loss: 2.6361e-09 - accuracy: 1.0000\n",
            "Epoch 960/1000\n",
            "2/2 [==============================] - 0s 7ms/step - loss: 2.6373e-09 - accuracy: 1.0000\n",
            "Epoch 961/1000\n",
            "2/2 [==============================] - 0s 6ms/step - loss: 2.6374e-09 - accuracy: 1.0000\n",
            "Epoch 962/1000\n",
            "2/2 [==============================] - 0s 6ms/step - loss: 2.6380e-09 - accuracy: 1.0000\n",
            "Epoch 963/1000\n",
            "2/2 [==============================] - 0s 7ms/step - loss: 2.6387e-09 - accuracy: 1.0000\n",
            "Epoch 964/1000\n",
            "2/2 [==============================] - 0s 6ms/step - loss: 2.6393e-09 - accuracy: 1.0000\n",
            "Epoch 965/1000\n",
            "2/2 [==============================] - 0s 7ms/step - loss: 2.6399e-09 - accuracy: 1.0000\n",
            "Epoch 966/1000\n",
            "2/2 [==============================] - 0s 7ms/step - loss: 2.6406e-09 - accuracy: 1.0000\n",
            "Epoch 967/1000\n",
            "2/2 [==============================] - 0s 6ms/step - loss: 2.6412e-09 - accuracy: 1.0000\n",
            "Epoch 968/1000\n",
            "2/2 [==============================] - 0s 7ms/step - loss: 2.6443e-09 - accuracy: 1.0000\n",
            "Epoch 969/1000\n",
            "2/2 [==============================] - 0s 6ms/step - loss: 2.6455e-09 - accuracy: 1.0000\n",
            "Epoch 970/1000\n",
            "2/2 [==============================] - 0s 5ms/step - loss: 2.6123e-09 - accuracy: 1.0000\n",
            "Epoch 971/1000\n",
            "2/2 [==============================] - 0s 7ms/step - loss: 2.6129e-09 - accuracy: 1.0000\n",
            "Epoch 972/1000\n",
            "2/2 [==============================] - 0s 7ms/step - loss: 2.6162e-09 - accuracy: 1.0000\n",
            "Epoch 973/1000\n",
            "2/2 [==============================] - 0s 6ms/step - loss: 2.6169e-09 - accuracy: 1.0000\n",
            "Epoch 974/1000\n",
            "2/2 [==============================] - 0s 5ms/step - loss: 2.6175e-09 - accuracy: 1.0000\n",
            "Epoch 975/1000\n",
            "2/2 [==============================] - 0s 6ms/step - loss: 2.6182e-09 - accuracy: 1.0000\n",
            "Epoch 976/1000\n",
            "2/2 [==============================] - 0s 6ms/step - loss: 2.6189e-09 - accuracy: 1.0000\n",
            "Epoch 977/1000\n",
            "2/2 [==============================] - 0s 7ms/step - loss: 2.6196e-09 - accuracy: 1.0000\n",
            "Epoch 978/1000\n",
            "2/2 [==============================] - 0s 7ms/step - loss: 2.6203e-09 - accuracy: 1.0000\n",
            "Epoch 979/1000\n",
            "2/2 [==============================] - 0s 6ms/step - loss: 2.6209e-09 - accuracy: 1.0000\n",
            "Epoch 980/1000\n",
            "2/2 [==============================] - 0s 7ms/step - loss: 2.6242e-09 - accuracy: 1.0000\n",
            "Epoch 981/1000\n",
            "2/2 [==============================] - 0s 6ms/step - loss: 2.6249e-09 - accuracy: 1.0000\n",
            "Epoch 982/1000\n",
            "2/2 [==============================] - 0s 5ms/step - loss: 2.6255e-09 - accuracy: 1.0000\n",
            "Epoch 983/1000\n",
            "2/2 [==============================] - 0s 7ms/step - loss: 2.6262e-09 - accuracy: 1.0000\n",
            "Epoch 984/1000\n",
            "2/2 [==============================] - 0s 6ms/step - loss: 2.6293e-09 - accuracy: 1.0000\n",
            "Epoch 985/1000\n",
            "2/2 [==============================] - 0s 5ms/step - loss: 2.6304e-09 - accuracy: 1.0000\n",
            "Epoch 986/1000\n",
            "2/2 [==============================] - 0s 9ms/step - loss: 2.6305e-09 - accuracy: 1.0000\n",
            "Epoch 987/1000\n",
            "2/2 [==============================] - 0s 5ms/step - loss: 2.6335e-09 - accuracy: 1.0000\n",
            "Epoch 988/1000\n",
            "2/2 [==============================] - 0s 6ms/step - loss: 2.6342e-09 - accuracy: 1.0000\n",
            "Epoch 989/1000\n",
            "2/2 [==============================] - 0s 7ms/step - loss: 2.6348e-09 - accuracy: 1.0000\n",
            "Epoch 990/1000\n",
            "2/2 [==============================] - 0s 7ms/step - loss: 2.6336e-09 - accuracy: 1.0000\n",
            "Epoch 991/1000\n",
            "2/2 [==============================] - 0s 6ms/step - loss: 2.6008e-09 - accuracy: 1.0000\n",
            "Epoch 992/1000\n",
            "2/2 [==============================] - 0s 5ms/step - loss: 2.6015e-09 - accuracy: 1.0000\n",
            "Epoch 993/1000\n",
            "2/2 [==============================] - 0s 6ms/step - loss: 2.6021e-09 - accuracy: 1.0000\n",
            "Epoch 994/1000\n",
            "2/2 [==============================] - 0s 6ms/step - loss: 2.6028e-09 - accuracy: 1.0000\n",
            "Epoch 995/1000\n",
            "2/2 [==============================] - 0s 6ms/step - loss: 2.6034e-09 - accuracy: 1.0000\n",
            "Epoch 996/1000\n",
            "2/2 [==============================] - 0s 5ms/step - loss: 2.6041e-09 - accuracy: 1.0000\n",
            "Epoch 997/1000\n",
            "2/2 [==============================] - 0s 6ms/step - loss: 2.6073e-09 - accuracy: 1.0000\n",
            "Epoch 998/1000\n",
            "2/2 [==============================] - 0s 6ms/step - loss: 2.6080e-09 - accuracy: 1.0000\n",
            "Epoch 999/1000\n",
            "2/2 [==============================] - 0s 5ms/step - loss: 2.6087e-09 - accuracy: 1.0000\n",
            "Epoch 1000/1000\n",
            "2/2 [==============================] - 0s 7ms/step - loss: 2.6093e-09 - accuracy: 1.0000\n"
          ],
          "name": "stdout"
        }
      ]
    },
    {
      "cell_type": "code",
      "metadata": {
        "id": "gkWvA7VxyLN9",
        "outputId": "86f855e6-ad37-45ef-b521-87cc5b1b0804",
        "colab": {
          "base_uri": "https://localhost:8080/",
          "height": 85
        }
      },
      "source": [
        "test_loss, test_acc = nn.evaluate(x_test_pca, y_test_norm)\n",
        "print(\"Loss:\",test_loss)\n",
        "print(\"Accuracy:\",str(test_acc*100)+\"%\")\n",
        "print(\"Time Taken for all Epochs to run with PCA reduced dimension and NN: \",(b-a),\"s\")"
      ],
      "execution_count": 49,
      "outputs": [
        {
          "output_type": "stream",
          "text": [
            "2/2 [==============================] - 0s 2ms/step - loss: 4.0481e-09 - accuracy: 1.0000\n",
            "Loss: 4.048073432016963e-09\n",
            "Accuracy: 100.0%\n",
            "Time Taken for all Epochs to run with PCA reduced dimension and NN:  35.4661922454834 s\n"
          ],
          "name": "stdout"
        }
      ]
    },
    {
      "cell_type": "code",
      "metadata": {
        "id": "o4zSB3DMxCJj"
      },
      "source": [
        "import tensorflow as tf\n",
        "\n",
        "from keras.models import load_model\n",
        "\n",
        "# nn.save('/content/drive/My Drive/pca_nn_glasses1.h5')"
      ],
      "execution_count": 50,
      "outputs": []
    },
    {
      "cell_type": "markdown",
      "metadata": {
        "id": "7e7MC-hG9dIo"
      },
      "source": [
        "# Trying on a new Image"
      ]
    },
    {
      "cell_type": "code",
      "metadata": {
        "id": "re69DCFhx5ak"
      },
      "source": [
        "model = load_model('/content/drive/My Drive/pca_nn_glasses.h5')"
      ],
      "execution_count": 51,
      "outputs": []
    },
    {
      "cell_type": "code",
      "metadata": {
        "id": "AngkZ4M8JMlu",
        "outputId": "3e9b8fd8-6ba2-4fa7-e378-a62452772d73",
        "colab": {
          "base_uri": "https://localhost:8080/",
          "height": 34
        }
      },
      "source": [
        "image_arr = cv2.imread('/content/drive/My Drive/advait_face_64/with/1.jpg',0)\n",
        "print(image_arr.shape)"
      ],
      "execution_count": 52,
      "outputs": [
        {
          "output_type": "stream",
          "text": [
            "(64, 64)\n"
          ],
          "name": "stdout"
        }
      ]
    },
    {
      "cell_type": "code",
      "metadata": {
        "id": "FIEzLc5fPzMu",
        "outputId": "b2c0cdad-c24f-4dfc-88a3-d717a34fe499",
        "colab": {
          "base_uri": "https://localhost:8080/",
          "height": 54
        }
      },
      "source": [
        "from google.colab import drive\n",
        "drive.mount('/content/drive')"
      ],
      "execution_count": 53,
      "outputs": [
        {
          "output_type": "stream",
          "text": [
            "Drive already mounted at /content/drive; to attempt to forcibly remount, call drive.mount(\"/content/drive\", force_remount=True).\n"
          ],
          "name": "stdout"
        }
      ]
    },
    {
      "cell_type": "code",
      "metadata": {
        "id": "hqF7O4MiJNFZ",
        "outputId": "6d836a9b-cc86-4ef1-b841-e833ca552fe0",
        "colab": {
          "base_uri": "https://localhost:8080/",
          "height": 51
        }
      },
      "source": [
        "image_arr.resize(1,64*64)\n",
        "image = image_arr.reshape(64,64)\n",
        "print(image.shape)\n",
        "print(image_arr.shape)"
      ],
      "execution_count": 54,
      "outputs": [
        {
          "output_type": "stream",
          "text": [
            "(64, 64)\n",
            "(1, 4096)\n"
          ],
          "name": "stdout"
        }
      ]
    },
    {
      "cell_type": "code",
      "metadata": {
        "id": "DUBLJ2D4yY7H",
        "outputId": "c90bfa9f-052c-463f-b4bd-e71a8a12655c",
        "colab": {
          "base_uri": "https://localhost:8080/",
          "height": 68
        }
      },
      "source": [
        "print('Data Type: %s' % image.dtype)\n",
        "print('Min: %.3f, Max: %.3f' % (image.min(), image.max()))\n",
        "image_norm = image.astype('float32')\n",
        "image_norm /= 255.0\n",
        "print('Min: %.3f, Max: %.3f' % (image_norm.min(), image_norm.max()))"
      ],
      "execution_count": 57,
      "outputs": [
        {
          "output_type": "stream",
          "text": [
            "Data Type: uint8\n",
            "Min: 2.000, Max: 196.000\n",
            "Min: 0.008, Max: 0.769\n"
          ],
          "name": "stdout"
        }
      ]
    },
    {
      "cell_type": "code",
      "metadata": {
        "id": "LlMumb3v86cc",
        "outputId": "2a2c3f40-20c8-4b5a-83df-3ee7c4e79449",
        "colab": {
          "base_uri": "https://localhost:8080/",
          "height": 68
        }
      },
      "source": [
        "print('Data Type: %s' % image_arr.dtype)\n",
        "print('Min: %.3f, Max: %.3f' % (image_arr.min(), image_arr.max()))\n",
        "image_norm_1 = image_arr.astype('float32')\n",
        "image_norm_1 /= 255.0\n",
        "print('Min: %.3f, Max: %.3f' % (image_norm_1.min(), image_norm_1.max()))"
      ],
      "execution_count": 58,
      "outputs": [
        {
          "output_type": "stream",
          "text": [
            "Data Type: uint8\n",
            "Min: 2.000, Max: 196.000\n",
            "Min: 0.008, Max: 0.769\n"
          ],
          "name": "stdout"
        }
      ]
    },
    {
      "cell_type": "code",
      "metadata": {
        "id": "doL-BL9-9JTU",
        "outputId": "5ffecb28-7e13-42cb-f97c-6b073be8a7af",
        "colab": {
          "base_uri": "https://localhost:8080/",
          "height": 34
        }
      },
      "source": [
        "image_norm_1.shape"
      ],
      "execution_count": 59,
      "outputs": [
        {
          "output_type": "execute_result",
          "data": {
            "text/plain": [
              "(1, 4096)"
            ]
          },
          "metadata": {
            "tags": []
          },
          "execution_count": 59
        }
      ]
    },
    {
      "cell_type": "code",
      "metadata": {
        "id": "W68VyJMoymEf"
      },
      "source": [
        "trial_pca = pca1.transform(image_norm_1)"
      ],
      "execution_count": 60,
      "outputs": []
    },
    {
      "cell_type": "code",
      "metadata": {
        "id": "jjBfLg9s0VvF",
        "outputId": "64cf4cd4-04d4-4b28-8d63-711908e7bf37",
        "colab": {
          "base_uri": "https://localhost:8080/",
          "height": 34
        }
      },
      "source": [
        "trial_pca.shape"
      ],
      "execution_count": 61,
      "outputs": [
        {
          "output_type": "execute_result",
          "data": {
            "text/plain": [
              "(1, 150)"
            ]
          },
          "metadata": {
            "tags": []
          },
          "execution_count": 61
        }
      ]
    },
    {
      "cell_type": "code",
      "metadata": {
        "id": "Y5SMG6Ol3j2w",
        "outputId": "9653ae7e-ea37-4220-9195-d97f91b4c53f",
        "colab": {
          "base_uri": "https://localhost:8080/",
          "height": 34
        }
      },
      "source": [
        "pred = model.predict_classes(trial_pca)\n",
        "if pred==1:\n",
        "  print(\"Wearing Glasses\")\n",
        "else:\n",
        "  print(\"Not wearing Glasses\")"
      ],
      "execution_count": 63,
      "outputs": [
        {
          "output_type": "stream",
          "text": [
            "Wearing Glasses\n"
          ],
          "name": "stdout"
        }
      ]
    }
  ]
}